{
 "cells": [
  {
   "cell_type": "code",
   "execution_count": 1,
   "metadata": {},
   "outputs": [],
   "source": [
    "import csv\n",
    "import re\n",
    "\n",
    "import pandas as pd\n",
    "import matplotlib.pyplot as plt"
   ]
  },
  {
   "cell_type": "code",
   "execution_count": 2,
   "metadata": {},
   "outputs": [],
   "source": [
    "path = 'data/facility_orig.scp'\n",
    "with open(path, 'r') as file:\n",
    "    raw = file.read()"
   ]
  },
  {
   "cell_type": "code",
   "execution_count": 3,
   "metadata": {},
   "outputs": [],
   "source": [
    "pattern = r'^ ([\\w]+) +([\\w\\d]+) +([\\d\\w]+)? +((?:[\\w\\d]+-)?(\\S+(?: \\S+)*)) +([\\d]+)? +([\\w\\d]+) +(\\w+) +([\\d/]+)? *\\n +([\\w\\d]+) +([\\w\\d]+)? *$'\n",
    "groups = ['Campus', 'Building', 'Room', 'Description', 'Description-trimmed', 'Occupancy', 'Type',\n",
    "          'Site', 'Active Date', 'Status', 'Bill']\n",
    "extractor = re.compile(pattern, re.MULTILINE)"
   ]
  },
  {
   "cell_type": "markdown",
   "metadata": {},
   "source": [
    "Try out/inspect the pattern with [RegExr](https://regexr.com/40qci).\n",
    "\n",
    "You can verify that it matches all relevant lines with the `pcregrep` program (`-v` returns non-matching lines and `-M` turns on multiline mode):\n",
    "```shell\n",
    "cat file.txt | pcregrep -v -M $PATTERN\n",
    "```"
   ]
  },
  {
   "cell_type": "code",
   "execution_count": 4,
   "metadata": {},
   "outputs": [],
   "source": [
    "matches = extractor.findall(raw)"
   ]
  },
  {
   "cell_type": "markdown",
   "metadata": {},
   "source": [
    "This writes to a csv file with the following columns, most of them copied from the original file:\n",
    "- `Campus`\n",
    "- `Building`\n",
    "- `Room`\n",
    "- `Description`: the full entry of the \"description\" field from the original document\n",
    "- `Description-trimmed`: the former with the sometimes-present `BuldingRoom-` trimmed from it\n",
    "- `Occupancy`\n",
    "- `Type`\n",
    "- `Site`\n",
    "- `Active Date`\n",
    "- `Status`\n",
    "- `Bill`"
   ]
  },
  {
   "cell_type": "code",
   "execution_count": 6,
   "metadata": {},
   "outputs": [],
   "source": [
    "# write to csv\n",
    "filename = 'rooms.csv'\n",
    "with open(filename, 'w') as file:\n",
    "    writer = csv.writer(file)\n",
    "    writer.writerow(groups)\n",
    "    [writer.writerow(match) for match in matches]"
   ]
  }
 ],
 "metadata": {
  "kernelspec": {
   "display_name": "Python 3",
   "language": "python",
   "name": "python3"
  },
  "language_info": {
   "codemirror_mode": {
    "name": "ipython",
    "version": 3
   },
   "file_extension": ".py",
   "mimetype": "text/x-python",
   "name": "python",
   "nbconvert_exporter": "python",
   "pygments_lexer": "ipython3",
   "version": "3.7.0"
  }
 },
 "nbformat": 4,
 "nbformat_minor": 2
}
