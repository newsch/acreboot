{
 "cells": [
  {
   "cell_type": "code",
   "execution_count": 366,
   "metadata": {},
   "outputs": [],
   "source": [
    "import lxml.etree as et\n",
    "import numpy as np\n",
    "import pandas as pd\n",
    "from IPython.display import SVG, display"
   ]
  },
  {
   "cell_type": "code",
   "execution_count": 367,
   "metadata": {},
   "outputs": [
    {
     "name": "stdout",
     "output_type": "stream",
     "text": [
      "The autoreload extension is already loaded. To reload it, use:\n",
      "  %reload_ext autoreload\n"
     ]
    }
   ],
   "source": [
    "%load_ext autoreload\n",
    "%autoreload 1\n",
    "%aimport adastra"
   ]
  },
  {
   "cell_type": "code",
   "execution_count": 368,
   "metadata": {},
   "outputs": [],
   "source": [
    "fa17missing = [\n",
    "    ('OIE1000', 5/3),  # OIE\n",
    "    ('AHSE1148', 10/3),  # DIRT TO SHIRT\n",
    "    ('ENGR3590', 3),  # ADE\n",
    "    ('AHSE1100', 10/3),  # HISTECH\n",
    "    ('ENGR3299', 8),  # RETURN DESIGN\n",
    "]\n",
    "sp18missing = [\n",
    "    ('ENGR3590', 10/3),  # CompRobo\n",
    "    ('ENGR3240', 16/3),  # TELL THE STORY\n",
    "    ('MTH2132', 10/3),  # BAYESIAN\n",
    "    ('ENGR3299', 10/3),  # BIOMIMICRY\n",
    "    ('ENGR3599A', 10/3),  # HTL\n",
    "    ('ENGR3299B', 8),  # RETURN DESIGN\n",
    "]\n",
    "tup_to_dict = lambda a: [{'Course/Customer': code, 'Weekly Length': pd.to_timedelta(hours, unit='h')} for code, hours in a]\n",
    "fa17missing, sp18missing = tuple(tup_to_dict(l) for l in [fa17missing, sp18missing])"
   ]
  },
  {
   "cell_type": "code",
   "execution_count": 369,
   "metadata": {},
   "outputs": [
    {
     "name": "stdout",
     "output_type": "stream",
     "text": [
      "WARNING *** file size (190919) not 512 + multiple of sector size (512)\n",
      "WARNING *** file size (222207) not 512 + multiple of sector size (512)\n"
     ]
    }
   ],
   "source": [
    "fa17courses = adastra.load_schedule_file('data/ad astra test fa17.xls')\n",
    "sp18courses = adastra.load_schedule_file('data/ad astra test sp18.xls')"
   ]
  },
  {
   "cell_type": "code",
   "execution_count": 370,
   "metadata": {},
   "outputs": [],
   "source": [
    "add_missing = lambda a, m: pd.concat([a, pd.DataFrame(m)], sort=True, ignore_index=False).reset_index()\n",
    "fa17courses = add_missing(fa17courses, fa17missing)\n",
    "sp18courses = add_missing(sp18courses, sp18missing)"
   ]
  },
  {
   "cell_type": "code",
   "execution_count": 371,
   "metadata": {},
   "outputs": [],
   "source": [
    "fa17cat = pd.read_csv('Class and Room Categorization - Classes Fall 2017.csv', usecols=range(13))\n",
    "fa17cat.drop_duplicates(subset='Course Code', inplace=True)\n",
    "sp18cat = pd.read_csv('Class and Room Categorization - Classes Spring 2018.csv', usecols=range(13))\n",
    "sp18cat.drop_duplicates(subset='Course Code', inplace=True)"
   ]
  },
  {
   "cell_type": "code",
   "execution_count": 372,
   "metadata": {},
   "outputs": [],
   "source": [
    "def strip(text):\n",
    "    try:\n",
    "        return text.strip()\n",
    "    except AttributeError:\n",
    "        return text\n",
    "\n",
    "def to_int(text):\n",
    "    return int(text.strip('\" '))\n",
    "\n",
    "def getEnrollment(filename):\n",
    "    enrollment = pd.read_csv(\n",
    "        filename,\n",
    "        usecols=[2,9],\n",
    "        converters = {'Crs No' : strip, 'Registered Students' : to_int})\n",
    "    enrollment.drop_duplicates(subset='Crs No', inplace=True)\n",
    "    return enrollment"
   ]
  },
  {
   "cell_type": "code",
   "execution_count": 373,
   "metadata": {},
   "outputs": [],
   "source": [
    "fa17enrollment = getEnrollment('FA17_Enrollment.csv')\n",
    "sp18enrollment = getEnrollment('SP18_Enrollment.csv')"
   ]
  },
  {
   "cell_type": "code",
   "execution_count": 374,
   "metadata": {},
   "outputs": [],
   "source": [
    "def merge(sched, enrollment, sched_code='Course/Customer', en_code='Crs No'):\n",
    "\n",
    "#     def agg_time(frame, group_col, agg_col):\n",
    "#         return frame.groupby(group_col, as_index=False)[agg_col].agg(np.sum)\n",
    "\n",
    "    merge1 = pd.merge(\n",
    "        left=sched,\n",
    "        right=enrollment,\n",
    "        how='inner',\n",
    "        left_on=sched_code,\n",
    "        right_on=en_code,\n",
    "        indicator=True,\n",
    "#         validate='one_to_many'\n",
    "    )\n",
    "    \n",
    "    return merge1\n",
    "\n",
    "agg_by_time = lambda a: a.groupby('Course/Customer', as_index=False)['Weekly Length'].agg(np.sum)\n",
    "agg_by_room = lambda a: a.groupby('Room', as_index=False)['Weekly Length'].agg(np.sum)"
   ]
  },
  {
   "cell_type": "code",
   "execution_count": 395,
   "metadata": {},
   "outputs": [
    {
     "name": "stdout",
     "output_type": "stream",
     "text": [
      "   Room Weekly Length\n",
      "1   109      03:20:00\n",
      "0   104      04:00:00\n",
      "9   305      05:35:00\n",
      "12  313      06:40:00\n",
      "11  309      06:40:00\n",
      "10  306      06:40:00\n",
      "2   113      07:00:00\n",
      "20  428      08:40:00\n",
      "3   128      10:00:00\n",
      "6   209      10:20:00\n",
      "4   204      10:20:00\n",
      "5   206      10:20:00\n",
      "18  413      10:40:00\n",
      "19  417      11:00:00\n",
      "7   213      12:20:00\n",
      "16  406      12:20:00\n",
      "17  409      13:00:00\n",
      "15  328      13:20:00\n",
      "8   304      17:15:00\n",
      "13  318      20:25:00\n",
      "14  326      22:30:00\n",
      "   Room   Weekly Length\n",
      "0   104 0 days 04:00:00\n",
      "14  406 0 days 05:20:00\n",
      "6   209 0 days 05:20:00\n",
      "5   206 0 days 05:20:00\n",
      "4   204 0 days 05:20:00\n",
      "8   304 0 days 06:40:00\n",
      "2   113 0 days 07:00:00\n",
      "3   128 0 days 09:10:00\n",
      "17  428 0 days 09:40:00\n",
      "10  309 0 days 10:10:00\n",
      "7   213 0 days 10:30:00\n",
      "9   306 0 days 10:30:00\n",
      "15  413 0 days 10:40:00\n",
      "1   109 0 days 13:40:00\n",
      "12  326 0 days 17:00:00\n",
      "11  318 0 days 20:55:00\n",
      "16  417 0 days 21:10:00\n",
      "13  328 1 days 01:15:00\n"
     ]
    }
   ],
   "source": [
    "#fa17footprint, sp18footprint = tuple(merge(agg_by_time(sched), enrollment) for sched, enrollment in [(fa17courses, fa17enrollment),(sp18courses, sp18enrollment)])\n",
    "fa17footprint, sp18footprint = tuple(merge(sched, enrollment) for sched, enrollment in [(fa17courses, fa17enrollment),(sp18courses, sp18enrollment)])\n",
    "fa17_room_usage = agg_by_room(fa17footprint)\n",
    "fa17_room_usage.sort_values('Weekly Length', inplace=True)\n",
    "sp18_room_usage = agg_by_room(sp18footprint)\n",
    "sp18_room_usage.sort_values('Weekly Length', inplace=True)\n",
    "\n",
    "print(fa17_room_usage)\n",
    "print(sp18_room_usage)"
   ]
  },
  {
   "cell_type": "code",
   "execution_count": 392,
   "metadata": {},
   "outputs": [],
   "source": [
    "filenames = ['1stFloorPoly','2ndFloorPoly', '3rdFloorPoly', '4thFloorPoly']"
   ]
  },
  {
   "cell_type": "code",
   "execution_count": 393,
   "metadata": {},
   "outputs": [],
   "source": [
    "def getPolygonCenter(pts):\n",
    "    xMax = np.max(pts[:,0])\n",
    "    xMin = np.min(pts[:,0])\n",
    "    xC = (xMax - xMin)/2 + xMin\n",
    "    \n",
    "    yMax = np.max(pts[:,1])\n",
    "    yMin = np.min(pts[:,1])\n",
    "    yC = (yMax - yMin)/2 + yMin\n",
    "    \n",
    "    return(np.array([xC, yC]))\n",
    "\n",
    "def getRecenterString(center, scale):\n",
    "    c = (1 - scale) * center\n",
    "    return 'translate(' + str(c[0]) + ', ' + str(c[1]) + ')'\n",
    "\n",
    "def rescale(data, min, max):\n",
    "    n = data.max() - data.min()\n",
    "    return ((data - data.min())/n)*(max - min) + min"
   ]
  },
  {
   "cell_type": "code",
   "execution_count": 399,
   "metadata": {},
   "outputs": [
    {
     "name": "stdout",
     "output_type": "stream",
     "text": [
      "{'109': 0.05, '104': 0.11782608695652173, '305': 0.2789130434782608, '313': 0.38913043478260867, '309': 0.38913043478260867, '306': 0.38913043478260867, '113': 0.4230434782608695, '428': 0.5926086956521739, '128': 0.7282608695652173, '209': 0.7621739130434783, '204': 0.7621739130434783, '206': 0.7621739130434783, '413': 0.796086956521739, '417': 0.83, '213': 0.9656521739130434, '406': 0.9656521739130434, '409': 1.0334782608695652, '328': 1.067391304347826, '304': 1.4658695652173912, '318': 1.7880434782608696, '326': 2.0}\n"
     ]
    },
    {
     "data": {
      "image/svg+xml": [
       "<svg viewBox=\"0 0 3265.63 2592\" xmlns=\"http://www.w3.org/2000/svg\"><title>1stFloorPoly</title><g id=\"Traces\"><g id=\"Classroom\"><polygon id=\"AC104\" points=\"323.97 1108.86 327.21 1106.92 321.2 1096.88 540.93 965.29 545.74 973.32 566.6 960.83 688.59 1164.51 667.73 1177 670.41 1181.48 695.75 1166.31 723.88 1213.24 508.87 1342 475.55 1361.96 445.83 1312.35 423.63 1275.28 323.97 1108.86\" style=\"fill:#C3C3C3\" transform=\"translate(460.9711565217391, 1024.5523717391304) scale(0.11782608695652173)\"/><polygon id=\"AC106\" points=\"1061.03 1005.06 983.14 813.08 971.77 785.06 949.23 794.2 945.72 785.53 708.2 881.9 711.72 890.57 687.63 900.34 776.89 1120.34 800.98 1110.57 802.94 1115.4 775.6 1126.49 804.18 1173.95 824.16 1165.84 858.86 1151.77 1063.82 1067.06 1043.79 1017.68 1040.46 1019.04 1038.49 1014.2 1061.03 1005.06\" style=\"fill:none;stroke:#000;stroke-linecap:round;stroke-linejoin:round;stroke-width:0.7086614175px\"/><polygon id=\"AC109\" points=\"1452.7 904.89 1429.85 910.27 1431.05 915.35 1459.76 908.59 1463.89 963.83 1187.07 1029.02 1174.52 975.75 1178.03 974.93 1132.32 780.8 1125.93 737.92 1123.79 728.81 1373.29 670.06 1375.43 679.17 1398.28 673.79 1452.7 904.89 1452.7 904.89\" style=\"fill:#C3C3C3\" transform=\"translate(1229.1480000000001, 807.0629999999999) scale(0.05)\"/><polygon id=\"AC113\" points=\"1550.85 889.42 1576.96 887.4 1577.37 892.61 1547.93 894.88 1560.76 948.77 1840.73 927.15 1836.51 872.59 1832.92 872.87 1832.52 867.66 1856.93 865.78 1838.64 629.06 1814.23 630.95 1813.51 621.62 1557.96 641.36 1558.68 650.69 1532.59 652.71 1532.59 652.71 1550.9 890.09 1550.85 889.42\" style=\"fill:#C3C3C3\" transform=\"translate(977.8028347826088, 453.02337608695655) scale(0.4230434782608695)\"/><polygon id=\"AC126\" points=\"2442.3 733.28 2420.77 726.99 2432.7 686.18 2457.66 693.47 2460.48 683.84 2706.51 755.75 2703.69 765.38 2727.03 772.22 2660.61 999.44 2637.27 992.62 2635.8 997.63 2664.16 1005.92 2640.51 1056.02 2370.99 977.23 2442.3 733.28\" style=\"fill:none;stroke:#000;stroke-linecap:round;stroke-linejoin:round;stroke-width:0.7086614175px\"/><polygon id=\"AC128\" points=\"2759.3 1034.93 2782.42 1046.8 2778.48 1054.48 2752.23 1041.02 2734.94 1093.65 2987.99 1223.46 3012.96 1174.77 3009.76 1173.13 3100.79 995.67 3123.21 1007.17 3142.62 969.34 3139.42 967.7 3116.98 956.19 3121.56 947.25 2893.5 830.26 2888.92 839.2 2865.81 827.34 2852.01 854.25 2759.3 1034.93 2865.16 828.63 2865.81 827.34 2759.3 1034.93\" style=\"fill:#C3C3C3\" transform=\"translate(798.5815217391306, 278.64130434782624) scale(0.7282608695652173)\"/></g><g id=\"Outline\"><line style=\"fill:none;stroke:#000;stroke-linecap:round;stroke-linejoin:round;stroke-width:2px\" x1=\"2115.33\" x2=\"2023.83\" y1=\"618.15\" y2=\"609.45\"/><line style=\"fill:none;stroke:#000;stroke-linecap:round;stroke-linejoin:round;stroke-width:2px\" x1=\"3103.55\" x2=\"3112.63\" y1=\"1304.2\" y2=\"1286.5\"/><line style=\"fill:none;stroke:#000;stroke-linecap:round;stroke-linejoin:round;stroke-width:2px\" x1=\"3103.55\" x2=\"3084.57\" y1=\"1304.2\" y2=\"1294.46\"/><line style=\"fill:none;stroke:#000;stroke-linecap:round;stroke-linejoin:round;stroke-width:2px\" x1=\"3103.55\" x2=\"3084.57\" y1=\"1304.2\" y2=\"1294.46\"/><line style=\"fill:none;stroke:#000;stroke-linecap:round;stroke-linejoin:round;stroke-width:2px\" x1=\"3112.63\" x2=\"3111.04\" y1=\"1286.5\" y2=\"1285.69\"/><polyline points=\"2115.33 618.15 2293.37 635.07 2436.05 662.45 2738.63 750.89 2873.58 804.67 3158.57 950.87 3258.52 1002.12 3137.73 1237.58\" style=\"fill:none;stroke:#000;stroke-linecap:round;stroke-linejoin:round;stroke-width:2px\"/><g id=\"LINE\"><line style=\"fill:none;stroke:#000;stroke-linecap:round;stroke-linejoin:round;stroke-width:2px\" x1=\"323.38\" x2=\"335.49\" y1=\"1739.93\" y2=\"1760.16\"/></g><line style=\"fill:none;stroke:#000;stroke-linecap:round;stroke-linejoin:round;stroke-width:2px\" x1=\"71.88\" x2=\"83.72\" y1=\"1230.25\" y2=\"1250.02\"/><polyline points=\"2023.83 609.45 1979.65 605.25 1841.84 605.71 1527.56 629.99 1398.81 649.99 1091.99 722.25 967.89 761.77 675.8 880.28 559.19 938.4 71.88 1230.25\" style=\"fill:none;stroke:#000;stroke-linecap:round;stroke-linejoin:round;stroke-width:2px\"/><g data-name=\"LINE\" id=\"LINE-2\"><line style=\"fill:none;stroke:#000;stroke-linecap:round;stroke-linejoin:round;stroke-width:2px\" x1=\"3111.36\" x2=\"3111.04\" y1=\"1284.64\" y2=\"1285.69\"/></g><line style=\"fill:none;stroke:#000;stroke-linecap:round;stroke-linejoin:round;stroke-width:2px\" x1=\"3111.36\" x2=\"3137.73\" y1=\"1284.64\" y2=\"1237.58\"/><path d=\"M335.44,1760.08A2342.33,2342.33,0,0,1,592,1558.46l.71-2.18,73.62-47.94,74.29-44.49,77.81-42.72,86.85-43.31,80.94-36.42,80.25-32.56,83.43-30.27,92.48-29.45,85.57-23.56,84.3-19.85,87.09-17.1,95.89-14.9,87.29-10,29.1-2.28,29.9-2.31,28.25-2.19,88.7-3.52,95,.08,88.48,4.27,86,8.18,87.7,12.48,91.38,17.53,86.09,20.87,83,24.25,83.78,28.78,86.44,34.45L2727,1341l76.89,39.45,76.85,44,82.45,52.24L2979,1452.9l31.73-47.64,35-52.51,2.79-4.19,36-54.1\" style=\"fill:none;stroke:#000;stroke-linecap:round;stroke-linejoin:round;stroke-width:2px\"/><path d=\"M83.72,1250l57.11-34.21-.19,49,1.5,34.93.13,1.64L154.45,1372l-.94,2.11a431.46,431.46,0,0,0,30.26,80.77l2.2.86,13.38,25.06.87,1.47,39.67,56.39L241,1540l19,21.23,42,38.45\" style=\"fill:none;stroke:#000;stroke-linecap:round;stroke-linejoin:round;stroke-width:2px\"/><g data-name=\"LINE\" id=\"LINE-3\"><polyline points=\"302.04 1599.69 312.79 1607.99 314.19 1609.04 337.61 1625.27 339.05 1626.19 399.9 1658.51 323.38 1739.93\" style=\"fill:none;stroke:#000;stroke-linecap:round;stroke-linejoin:round;stroke-width:2px\"/></g></g></g><g id=\"A-ANNO-NUMB\"><g id=\"TEXT\"><text style=\"font-size:18.30508041381836px;font-family:MyriadPro-Regular, Myriad Pro\" transform=\"translate(2541.12 863.85)\">126</text></g><g data-name=\"TEXT\" id=\"TEXT-2\"><text style=\"font-size:18.30508041381836px;font-family:MyriadPro-Regular, Myriad Pro\" transform=\"translate(1684.92 782.82)\">113</text></g><g data-name=\"TEXT\" id=\"TEXT-3\"><text style=\"font-size:18.30508041381836px;font-family:MyriadPro-Regular, Myriad Pro\" transform=\"translate(1276.4 859.16)\">109</text></g><g data-name=\"TEXT\" id=\"TEXT-4\"><text style=\"font-size:18.30508041381836px;font-family:MyriadPro-Regular, Myriad Pro\" transform=\"translate(874.73 986.96)\">106</text></g><g data-name=\"TEXT\" id=\"TEXT-5\"><text style=\"font-size:18.30508041381836px;font-family:MyriadPro-Regular, Myriad Pro\" transform=\"translate(504.75 1164.58)\">104</text></g></g></svg>"
      ],
      "text/plain": [
       "<IPython.core.display.SVG object>"
      ]
     },
     "metadata": {},
     "output_type": "display_data"
    },
    {
     "name": "stdout",
     "output_type": "stream",
     "text": [
      "{'109': 0.05, '104': 0.11782608695652173, '305': 0.2789130434782608, '313': 0.38913043478260867, '309': 0.38913043478260867, '306': 0.38913043478260867, '113': 0.4230434782608695, '428': 0.5926086956521739, '128': 0.7282608695652173, '209': 0.7621739130434783, '204': 0.7621739130434783, '206': 0.7621739130434783, '413': 0.796086956521739, '417': 0.83, '213': 0.9656521739130434, '406': 0.9656521739130434, '409': 1.0334782608695652, '328': 1.067391304347826, '304': 1.4658695652173912, '318': 1.7880434782608696, '326': 2.0}\n"
     ]
    },
    {
     "data": {
      "image/svg+xml": [
       "<svg viewBox=\"0 0 3168 2592\" xmlns=\"http://www.w3.org/2000/svg\"><title>2ndFloorPoly</title><g id=\"Traces\"><g id=\"Classroom\"><polygon id=\"AC204\" points=\"629.3 720.15 646.61 749.06 739.75 904.58 723.77 914.15 726.18 918.18 751.92 960.17 548.01 1082.29 409.18 850.46 424.84 841.09 415.87 823.8 412.96 825.54 398.16 801.05 598 704.15 612.65 728.47 628.63 719.04 629.3 720.15\" style=\"fill:#C3C3C3\" transform=\"translate(136.75951304347825, 212.43101739130435) scale(0.7621739130434783)\"/><polygon id=\"AC206\" points=\"751.92 698.02 819.23 864.82 837.92 857.24 839.68 861.59 858.15 907.25 1079.7 817.36 1059.45 772.43 1057.68 768.08 1074.95 761.07 1006.79 593.09 994.13 561.87 993.64 560.67 976.38 567.67 965.66 541.25 755.21 605.56 765.96 632.06 766.71 631.76 774.02 649.77 737.94 664.41 751.92 698.02\" style=\"fill:#C3C3C3\" transform=\"translate(216.14110434782611, 172.24554347826088) scale(0.7621739130434783)\"/><polygon id=\"AC209\" points=\"1180.25 733.95 1139.11 559.24 1139.11 559.24 1119.49 563.85 1109.99 523.49 1147.89 514.56 1143.44 495.64 1140.76 496.27 1133.99 468.29 1353.92 436.77 1360.46 464.51 1378.59 460.24 1386.61 494.3 1428.16 670.75 1410.03 675.02 1411.44 681.02 1414.56 680.11 1425.55 726.79 1176.4 785.46 1157.54 739.3 1180.25 733.95\" style=\"fill:#C3C3C3\" transform=\"translate(301.81914130434785, 145.3390891304348) scale(0.7621739130434783)\"/><polygon id=\"AC213\" points=\"1778.07 641.74 1781.66 690.57 1538.81 709.33 1536.42 660.12 1536.06 655.43 1515.95 656.99 1499.32 441.36 1538.14 438.36 1536.64 418.97 1535.83 419.04 1533.63 390.52 1578.8 391 1753.65 392.88 1755.87 421.54 1774.44 420.1 1791.1 635.73 1772.52 637.16 1772.89 641.85 1778.07 641.74\" style=\"fill:#C3C3C3\" transform=\"translate(56.50938695652192, 18.888728260869627) scale(0.9656521739130434)\"/><polygon id=\"AC218\" points=\"1897.72 690.52 2135.07 713.08 2139.98 663.92 2138.32 663.92 2161.8 416.94 1945.57 375.41 1942.87 403.85 1943.67 403.93 1941.84 423.28 1903.07 419.59 1899.14 460.88 1919.2 462.79 1897.72 690.52\" style=\"fill:none;stroke:#000;stroke-linecap:round;stroke-linejoin:round;stroke-width:0.7086614175px\"/><polygon id=\"AC226\" points=\"2252.67 735.67 2266.49 688.4 2267.73 688.76 2318.09 516.47 2298.72 510.81 2310.35 471 2347.73 481.93 2353.18 463.27 2352.44 463.05 2360.46 435.62 2564.98 517.17 2557.37 543.21 2575.25 548.43 2514.57 756.02 2496.69 750.79 2480.31 802.21 2447.97 792.75 2252.67 735.67\" style=\"fill:none;stroke:#000;stroke-linecap:round;stroke-linejoin:round;stroke-width:0.7086614175px\"/><polygon id=\"AC228\" points=\"2590.76 845.63 2596.32 848.48 2626.3 863.86 2807.34 956.73 2830.26 912.06 2829.13 911.48 2941.94 691.58 2756.44 572.97 2743.4 598.38 2744.12 598.75 2735.25 616.05 2700.6 598.28 2700.01 599.43 2684.63 629.41 2601.87 790.7 2619.82 799.9 2617.67 804.08 2590.76 845.63\" style=\"fill:none;stroke:#000;stroke-linecap:round;stroke-linejoin:round;stroke-width:0.7086614175px\"/></g><g id=\"Outline\"><path d=\"M184.05,962.63l11.32,18.9,51.4-30.78,4.16,6.94-4.16,2.47-1.46,33.11,1.48,34.73,11,63.67.41,1.57c2.65,10,5.91,20.72,9.92,31.92a389.94,389.94,0,0,0,17.32,40.78l.83,1.39,12.06,22.57,36.59,52.23,19.3,21.55,46.54,41.06,22.41,15.6,56.18,30,1.48.63,4.13-2.47,4.16,6.94-78,67,10.86,18.13,232.25-182.35a2099,2099,0,0,1,207.69-123.88c317.74-165.49,599.63-208.44,702.05-221.14,126.55-15.69,356-42.06,645.1,24,264.2,60.38,460.12,171,578.25,250.12l110-165.21,17.08,8.76,8.17-15.93,22.41-43.7,106.29-207.19,2.31,1.18,3.29-6.42-17.12-11-72.82-46.56-213.33-136.4-2.38,4.63,2.06,1.32-13.2,25.74-27.51-14.11,5.14-10-129-51.44L2356,428.28l-1.46,5,2.27.89-8.12,27.8L2319,453.28l3.16-10.83-6.88-1.33L2242,427.05l-56.16-10.78-30.55-5.87-122.18-23.46L1939.83,369l-.49,5.19,2.36.83-2.7,28.43-30.78-2.92,1.07-11.2-49.39-.53-62.2-.67-20.57-.19-31.11-.33-15.55-.2-108.85-1.16-41.15-.44-53.58-.58.4,5.19,2.44,0,2.23,28.86-30.83,2.38-.86-11.17-371.65,53.27,1.2,5.07,2.41-.34,6.64,28.17-30.1,7.08-2.57-10.91-359,109.7,1.95,4.83,2.33-.73,10.89,26.83-28.65,11.63-4.21-10.39-6.15,3L391.53,798.3l2.68,4.46,2.19-1.06,14.88,24.84Z\" style=\"fill:none;stroke:#000;stroke-linecap:round;stroke-linejoin:round;stroke-width:2px\"/></g></g><g data-name=\"A-ANNO-NUMB copy\" id=\"A-ANNO-NUMB_copy\"><g id=\"TEXT\"><text style=\"font-size:11.663999557495117px;font-family:MyriadPro-Regular, Myriad Pro\" transform=\"translate(567.71 898.29)\">204</text></g><g data-name=\"TEXT\" id=\"TEXT-2\"><text style=\"font-size:11.663999557495117px;font-family:MyriadPro-Regular, Myriad Pro\" transform=\"translate(909.72 727.28)\">206</text></g><g data-name=\"TEXT\" id=\"TEXT-3\"><text style=\"font-size:11.663999557495117px;font-family:MyriadPro-Regular, Myriad Pro\" transform=\"translate(1264.82 610.28)\">209</text></g><g data-name=\"TEXT\" id=\"TEXT-4\"><text style=\"font-size:11.663999557495117px;font-family:MyriadPro-Regular, Myriad Pro\" transform=\"translate(1641.46 552.25)\">213</text></g><g data-name=\"TEXT\" id=\"TEXT-5\"><text style=\"font-size:11.663999557495117px;font-family:MyriadPro-Regular, Myriad Pro\" transform=\"translate(2018.99 559.17)\">218</text></g><g data-name=\"TEXT\" id=\"TEXT-6\"><text style=\"font-size:11.663999557495117px;font-family:MyriadPro-Regular, Myriad Pro\" transform=\"translate(2406.38 635.82)\">226</text></g><g data-name=\"TEXT\" id=\"TEXT-7\"><text style=\"font-size:11.663999557495117px;font-family:MyriadPro-Regular, Myriad Pro\" transform=\"translate(2753.55 766.59)\">228</text></g></g></svg>"
      ],
      "text/plain": [
       "<IPython.core.display.SVG object>"
      ]
     },
     "metadata": {},
     "output_type": "display_data"
    },
    {
     "name": "stdout",
     "output_type": "stream",
     "text": [
      "{'109': 0.05, '104': 0.11782608695652173, '305': 0.2789130434782608, '313': 0.38913043478260867, '309': 0.38913043478260867, '306': 0.38913043478260867, '113': 0.4230434782608695, '428': 0.5926086956521739, '128': 0.7282608695652173, '209': 0.7621739130434783, '204': 0.7621739130434783, '206': 0.7621739130434783, '413': 0.796086956521739, '417': 0.83, '213': 0.9656521739130434, '406': 0.9656521739130434, '409': 1.0334782608695652, '328': 1.067391304347826, '304': 1.4658695652173912, '318': 1.7880434782608696, '326': 2.0}\n"
     ]
    },
    {
     "data": {
      "image/svg+xml": [
       "<svg viewBox=\"0 0 3578.23 1501.05\" xmlns=\"http://www.w3.org/2000/svg\"><title>3rdFloorPoly</title><g id=\"Traces\"><g id=\"Classroom\"><polygon id=\"AC304\" points=\"403.56 703.25 422.06 692.17 410.96 673.64 409.57 674.47 393.24 647.2 613.33 540.7 629.61 567.87 647.37 557.24 667.34 590.59 762.3 749.14 765.81 755.01 770.83 763.39 753.07 774.03 755.75 778.51 777.99 765.19 798.7 816.58 591.15 940.87 557.79 960.85 403.53 703.27 403.56 703.25\" style=\"fill:#C3C3C3\" transform=\"translate(-277.6442847826086, -349.7632228260869) scale(1.4658695652173912)\"/><polygon id=\"AC306\" points=\"771.2 495.58 808.91 480.28 800.79 460.26 795.95 462.22 783.85 432.4 788.01 431.15 1021.84 359.7 1033.75 389.05 1052.93 381.27 1064.3 409.29 1143.27 603.94 1124.09 611.73 1126.05 616.56 1150.07 606.82 1162.64 660.77 938.43 751.74 901.1 766.88 880.53 716.18 881.87 715.63 879.58 710 861.19 717.47 771.2 495.58\" style=\"fill:#C3C3C3\" transform=\"translate(590.662, 344.09671739130437) scale(0.38913043478260867)\"/><polygon id=\"AC309\" points=\"1516.78 513.41 1542.01 507.47 1546.14 562.71 1271.41 627.4 1258.87 574.14 1260.27 573.81 1214.56 379.68 1192.77 384.81 1182.21 339.96 1224.32 330.04 1219.37 309.02 1218.5 309.25 1211.21 278.3 1453.25 243.6 1460.5 274.43 1480.65 269.68 1489.56 307.53 1535.73 503.59 1515.58 508.33 1516.78 513.41\" style=\"fill:#C3C3C3\" transform=\"translate(833.332989130435, 266.03369565217395) scale(0.38913043478260867)\"/><polygon id=\"AC313\" points=\"1938.99 464.67 1918.36 466.27 1918.76 471.47 1920.19 471.36 1924.41 525.92 1642.98 547.52 1630.18 493.77 1656.02 491.77 1655.62 486.56 1633.28 488.29 1633.28 488.29 1617.79 287.47 1614.79 248.7 1657.93 245.37 1656.27 223.84 1655.37 223.9 1652.92 192.22 1652.91 192.22 1897.39 194.84 1897.39 194.84 1899.85 226.68 1920.49 225.09 1922.82 255.24 1938.99 464.67\" style=\"fill:#C3C3C3\" transform=\"translate(1085.4480217391304, 225.94232608695654) scale(0.38913043478260867)\"/><polygon id=\"AC318\" points=\"2110.63 175.43 2107.63 207.03 2108.52 207.12 2106.48 228.62 2063.41 224.52 2060.55 254.63 2059.05 270.4 2081.33 272.51 2062.46 471.06 2036.65 468.61 2040.08 523.9 2321.18 549.18 2323.5 524.81 2324.79 496 2325.29 490.8 2345.89 492.76 2345.89 492.76 2368.64 253.54 2348.03 251.58 2350.88 221.57 2350.88 221.57 2342.51 219.96 2340.75 219.62 2327.31 217.04 2325.54 216.7 2206.76 193.89 2205 193.49 2177.07 188.12 2175.3 187.78 2161.87 185.2 2160.1 184.86 2110.63 175.43\" style=\"fill:#C3C3C3\" transform=\"translate(-1735.7800271739131, -285.51209239130435) scale(1.7880434782608696)\"/><polygon id=\"AC326\" points=\"2451.85 575.72 2467.2 523.19 2468.59 523.6 2524.54 332.17 2503.02 325.87 2515.95 281.65 2557.47 293.78 2563.53 273.05 2562.71 272.81 2571.62 242.34 2798.86 332.94 2790.41 361.87 2810.28 367.68 2801.79 396.7 2742.86 598.33 2742.86 598.33 2722.99 592.52 2721.52 597.53 2746.4 604.8 2722.76 654.9 2451.85 575.72\" style=\"fill:#C3C3C3\" transform=\"translate(-2631.065, -448.62) scale(2.0)\"/><polygon id=\"AC328\" points=\"3011.72 394.94 3057.2 424.03 3058.72 425 3070.25 432.37 3071.76 433.34 3095.72 448.66 3097.24 449.63 3217.86 526.75 3092.04 772.02 3080.14 798.29 3068.97 820.07 3032.48 802.97 2817.19 692.53 2834.47 639.9 2857.54 651.73 2859.92 647.09 2839.98 636.86 2839.98 636.86 2935.88 449.97 2949.68 423.06 2988.18 442.81 2998.04 423.59 2997.24 423.18 3011.72 394.94\" style=\"fill:#C3C3C3\" transform=\"translate(-203.35494565217374, -40.94055434782605) scale(1.067391304347826)\"/></g><g id=\"Outline\"><line style=\"fill:none;stroke:#000;stroke-linecap:round;stroke-linejoin:round;stroke-width:2px\" x1=\"3190.55\" x2=\"3199.63\" y1=\"900.2\" y2=\"882.5\"/><line style=\"fill:none;stroke:#000;stroke-linecap:round;stroke-linejoin:round;stroke-width:2px\" x1=\"3190.55\" x2=\"3171.57\" y1=\"900.2\" y2=\"890.46\"/><line style=\"fill:none;stroke:#000;stroke-linecap:round;stroke-linejoin:round;stroke-width:2px\" x1=\"3190.55\" x2=\"3171.57\" y1=\"900.2\" y2=\"890.46\"/><line style=\"fill:none;stroke:#000;stroke-linecap:round;stroke-linejoin:round;stroke-width:2px\" x1=\"3199.63\" x2=\"3198.04\" y1=\"882.5\" y2=\"881.69\"/><g id=\"LINE\"><line style=\"fill:none;stroke:#000;stroke-linecap:round;stroke-linejoin:round;stroke-width:2px\" x1=\"410.38\" x2=\"422.49\" y1=\"1335.93\" y2=\"1356.16\"/></g><line style=\"fill:none;stroke:#000;stroke-linecap:round;stroke-linejoin:round;stroke-width:2px\" x1=\"158.88\" x2=\"170.72\" y1=\"826.25\" y2=\"846.02\"/><polyline points=\"158.88 826.25 406.83 677.75 383.92 645.3 759.44 463.6 764.99 474.79 793.13 463.43 779.09 427.85 1045.04 346.59 1178 305.96 1178.99 318.25 1211.31 310.64 1202.91 273.67 1615.86 214.48 1616.81 226.88 1647.23 224.32 1645.43 186.38 2070.32 190.93 2070.9 203.54 2099.39 204.9 2104.26 168.34 2529.06 249.92 2525.55 261.95 2554.8 270.23 2566.69 234.17 2968.55 394.39 2962.83 405.53 2988.18 418.53 3008.42 386 3345.52 598.12 3224.73 833.58\" style=\"fill:none;stroke:#000;stroke-linecap:round;stroke-linejoin:round;stroke-width:2px\"/><g data-name=\"LINE\" id=\"LINE-2\"><line style=\"fill:none;stroke:#000;stroke-linecap:round;stroke-linejoin:round;stroke-width:2px\" x1=\"3198.36\" x2=\"3198.04\" y1=\"880.64\" y2=\"881.69\"/></g><line style=\"fill:none;stroke:#000;stroke-linecap:round;stroke-linejoin:round;stroke-width:2px\" x1=\"3198.36\" x2=\"3224.73\" y1=\"880.64\" y2=\"833.58\"/><path d=\"M422.44,1356.08A2342.33,2342.33,0,0,1,679,1154.46l.71-2.18,73.62-47.94,74.29-44.49,77.81-42.72,86.85-43.31,80.94-36.42,80.25-32.56,83.43-30.27,92.48-29.45,85.57-23.56,84.3-19.85,87.09-17.1,95.89-14.9,87.29-10,29.1-2.28,29.9-2.31,28.25-2.19,88.7-3.52,95,.08,88.48,4.27,86,8.18,87.7,12.48,91.38,17.53,86.09,20.87,83,24.25,83.78,28.78,86.44,34.45L2814,937l76.89,39.45,76.85,44.05,82.45,52.24L3066,1048.9l31.73-47.64,35-52.51,2.79-4.19,36-54.1\" style=\"fill:none;stroke:#000;stroke-linecap:round;stroke-linejoin:round;stroke-width:2px\"/><path d=\"M170.72,846l57.11-34.21-.19,49,1.5,34.93.13,1.64L241.45,968l-.94,2.11a431.46,431.46,0,0,0,30.26,80.77l2.2.86,13.38,25.06.87,1.47,39.67,56.39L328,1136l19,21.23,42,38.45\" style=\"fill:none;stroke:#000;stroke-linecap:round;stroke-linejoin:round;stroke-width:2px\"/><g data-name=\"LINE\" id=\"LINE-3\"><polyline points=\"389.04 1195.69 399.79 1203.99 401.19 1205.04 424.61 1221.27 426.05 1222.19 486.9 1254.51 410.38 1335.93\" style=\"fill:none;stroke:#000;stroke-linecap:round;stroke-linejoin:round;stroke-width:2px\"/></g></g></g><g data-name=\"A-ANNO-NUMB copy\" id=\"A-ANNO-NUMB_copy\"><g id=\"TEXT\"><text style=\"font-size:18.30508041381836px;font-family:MyriadPro-Regular, Myriad Pro\" transform=\"translate(580.92 757.77)\">304</text></g><g data-name=\"TEXT\" id=\"TEXT-2\"><text style=\"font-size:18.30508041381836px;font-family:MyriadPro-Regular, Myriad Pro\" transform=\"translate(957.32 571.63)\">306</text></g><g data-name=\"TEXT\" id=\"TEXT-3\"><text style=\"font-size:18.30508041381836px;font-family:MyriadPro-Regular, Myriad Pro\" transform=\"translate(1363.55 442.86)\">309</text></g><g data-name=\"TEXT\" id=\"TEXT-4\"><text style=\"font-size:18.30508041381836px;font-family:MyriadPro-Regular, Myriad Pro\" transform=\"translate(1768.28 373.05)\">313</text></g><g data-name=\"TEXT\" id=\"TEXT-5\"><text style=\"font-size:18.30508041381836px;font-family:MyriadPro-Regular, Myriad Pro\" transform=\"translate(2200.41 382.15)\">318</text></g><g data-name=\"TEXT\" id=\"TEXT-6\"><text style=\"font-size:18.30508041381836px;font-family:MyriadPro-Regular, Myriad Pro\" transform=\"translate(2625.85 463.6)\">326</text></g><g data-name=\"TEXT\" id=\"TEXT-7\"><text style=\"font-size:18.30508041381836px;font-family:MyriadPro-Regular, Myriad Pro\" transform=\"translate(2999.75 618.12)\">328</text></g></g></svg>"
      ],
      "text/plain": [
       "<IPython.core.display.SVG object>"
      ]
     },
     "metadata": {},
     "output_type": "display_data"
    },
    {
     "name": "stdout",
     "output_type": "stream",
     "text": [
      "{'109': 0.05, '104': 0.11782608695652173, '305': 0.2789130434782608, '313': 0.38913043478260867, '309': 0.38913043478260867, '306': 0.38913043478260867, '113': 0.4230434782608695, '428': 0.5926086956521739, '128': 0.7282608695652173, '209': 0.7621739130434783, '204': 0.7621739130434783, '206': 0.7621739130434783, '413': 0.796086956521739, '417': 0.83, '213': 0.9656521739130434, '406': 0.9656521739130434, '409': 1.0334782608695652, '328': 1.067391304347826, '304': 1.4658695652173912, '318': 1.7880434782608696, '326': 2.0}\n"
     ]
    },
    {
     "data": {
      "image/svg+xml": [
       "<svg viewBox=\"0 0 3578.4 1501.2\" xmlns=\"http://www.w3.org/2000/svg\"><title>4thFloorPoly</title><g id=\"Traces\"><g id=\"Classroom\"><polygon id=\"AC404\" points=\"820.42 748.5 838.95 737.4 859.66 788.8 617.51 933.8 589.64 887.26 590.88 886.52 464.49 675.48 483.02 664.38 471.92 645.85 470.53 646.68 454.19 619.41 674.29 512.91 690.56 540.09 709.79 528.57 729.77 561.93 833.16 734.58 817.64 743.87 813.94 746.09 813.94 746.09 816.71 750.72 820.42 748.5\" style=\"fill:none;stroke:#000;stroke-linecap:round;stroke-linejoin:round;stroke-width:0.7086614175px\"/><polygon id=\"AC406\" points=\"942.82 687.85 918.8 697.59 947.38 745.05 1208.91 638.94 1188.34 588.23 1187.01 588.78 1184.95 583.78 1184.98 583.77 1205.74 575.35 1130.09 388.87 1115.47 352.84 1094.7 361.27 1082.8 331.92 848.96 403.36 860.91 432.81 861.74 432.47 869.86 452.49 829.77 468.75 844.39 504.78 920.02 691.27 940.79 682.84 940.79 682.84 942.82 687.85\" style=\"fill:#C3C3C3\" transform=\"translate(35.01211304347838, 18.495789130434844) scale(0.9656521739130434)\"/><polygon id=\"AC409\" points=\"1275.52 351.89 1253.72 357.03 1243.17 312.17 1285.28 302.26 1280.33 281.23 1279.46 281.46 1272.17 250.51 1272.17 250.51 1514.2 215.82 1521.46 246.64 1543.27 241.5 1552.18 279.35 1598.31 475.23 1576.48 480.37 1577.73 485.63 1602.96 479.68 1607.1 534.93 1332.37 599.62 1319.83 546.36 1321.23 546.02 1275.52 351.89\" style=\"fill:#C3C3C3\" transform=\"translate(-47.71104130434777, -13.649756521739116) scale(1.0334782608695652)\"/><polygon id=\"AC413\" points=\"1712.67 464.32 1716.98 463.98 1691.13 465.98 1703.95 519.87 1985.36 498.13 1981.15 443.57 1979.71 443.69 1979.3 438.3 2000.83 436.64 1984.67 227.38 1982.34 197.23 1960.8 198.9 1958.34 167.01 1713.86 164.43 1713.88 164.43 1716.32 196.12 1717.22 196.05 1718.88 217.58 1675.75 220.92 1678.74 259.68 1694.22 460.32 1694.2 460.33 1715.74 458.66 1716.56 458.6 1716.98 463.98 1712.67 464.32\" style=\"fill:#C3C3C3\" transform=\"translate(374.8513086956524, 69.768847826087) scale(0.796086956521739)\"/><polygon id=\"AC417\" points=\"2382 522.82 2101.03 496.11 2097.61 440.82 2123.41 443.27 2142.29 244.73 2120 242.61 2124.37 196.74 2167.43 200.83 2169.48 179.33 2168.58 179.24 2171.59 147.65 2221.04 157.14 2222.81 157.48 2236.24 160.06 2238.01 160.4 2265.94 165.76 2267.71 166.11 2386.47 188.91 2388.24 189.25 2401.68 191.83 2403.47 192.18 2411.84 193.78 2408.99 223.8 2431.3 225.92 2408.55 465.14 2386.24 463.02 2385.75 468.21 2384.46 497.02 2382 522.82\" style=\"fill:#C3C3C3\" transform=\"translate(384.9573500000001, 56.989950000000015) scale(0.83)\"/><polygon id=\"AC426\" points=\"2783.94 564.73 2782.48 569.74 2807.36 577.02 2783.71 627.12 2765.74 621.86 2729.81 611.36 2512.81 547.93 2528.16 495.41 2529.54 495.81 2598.43 260.15 2618.43 266 2624.49 245.26 2623.66 245.02 2632.57 214.55 2859.82 305.15 2851.36 334.08 2872.87 340.37 2864.39 369.4 2805.45 571.02 2783.94 564.73\" style=\"fill:none;stroke:#000;stroke-linecap:round;stroke-linejoin:round;stroke-width:0.7086614175px\"/><polygon id=\"AC428\" points=\"3129.27 793.57 2878.14 664.75 2895.36 612.08 2918.49 623.95 2920.88 619.3 2900.94 609.07 2996.83 422.18 3010.64 395.27 3049.13 415.02 3058.99 395.8 3058.19 395.39 3072.68 367.16 3278.79 498.94 3152.96 744.22 3154.24 744.88 3129.27 793.57\" style=\"fill:#C3C3C3\" transform=\"translate(1254.1398717391305, 236.4356543478261) scale(0.5926086956521739)\"/></g><g id=\"Outline\"><line style=\"fill:none;stroke:#000;stroke-linecap:round;stroke-linejoin:round;stroke-width:2px\" x1=\"3252.55\" x2=\"3261.63\" y1=\"874.2\" y2=\"856.5\"/><line style=\"fill:none;stroke:#000;stroke-linecap:round;stroke-linejoin:round;stroke-width:2px\" x1=\"3252.55\" x2=\"3233.57\" y1=\"874.2\" y2=\"864.46\"/><line style=\"fill:none;stroke:#000;stroke-linecap:round;stroke-linejoin:round;stroke-width:2px\" x1=\"3252.55\" x2=\"3233.57\" y1=\"874.2\" y2=\"864.46\"/><line style=\"fill:none;stroke:#000;stroke-linecap:round;stroke-linejoin:round;stroke-width:2px\" x1=\"3261.63\" x2=\"3260.04\" y1=\"856.5\" y2=\"855.69\"/><g id=\"LINE\"><line style=\"fill:none;stroke:#000;stroke-linecap:round;stroke-linejoin:round;stroke-width:2px\" x1=\"472.38\" x2=\"484.49\" y1=\"1309.93\" y2=\"1330.16\"/></g><line style=\"fill:none;stroke:#000;stroke-linecap:round;stroke-linejoin:round;stroke-width:2px\" x1=\"220.88\" x2=\"232.72\" y1=\"800.25\" y2=\"820.02\"/><polyline points=\"220.88 800.25 468.83 651.75 445.92 619.3 821.44 437.6 826.99 448.79 855.13 437.43 841.09 401.85 1107.04 320.59 1240 279.96 1240.99 292.25 1273.31 284.64 1264.91 247.67 1677.86 188.48 1678.81 200.88 1709.23 198.32 1707.43 160.38 2132.32 164.93 2132.9 177.54 2161.39 178.9 2166.26 142.34 2591.06 223.92 2587.55 235.95 2616.8 244.23 2628.69 208.17 3030.55 368.39 3024.83 379.53 3050.18 392.53 3070.42 360 3407.52 572.12 3286.73 807.58\" style=\"fill:none;stroke:#000;stroke-linecap:round;stroke-linejoin:round;stroke-width:2px\"/><g data-name=\"LINE\" id=\"LINE-2\"><line style=\"fill:none;stroke:#000;stroke-linecap:round;stroke-linejoin:round;stroke-width:2px\" x1=\"3260.36\" x2=\"3260.04\" y1=\"854.64\" y2=\"855.69\"/></g><line style=\"fill:none;stroke:#000;stroke-linecap:round;stroke-linejoin:round;stroke-width:2px\" x1=\"3260.36\" x2=\"3286.73\" y1=\"854.64\" y2=\"807.58\"/><path d=\"M484.44,1330.08A2342.33,2342.33,0,0,1,741,1128.46l.71-2.18,73.62-47.94,74.29-44.49,77.81-42.72,86.85-43.31,80.94-36.42,80.25-32.56,83.43-30.27,92.48-29.45,85.57-23.56,84.3-19.85,87.09-17.1,95.89-14.9,87.29-10,29.1-2.28,29.9-2.31,28.25-2.19,88.7-3.52,95.05.08,88.48,4.27,86,8.18,87.7,12.48,91.38,17.53,86.09,20.87,83,24.25,83.78,28.78,86.44,34.45L2876,911l76.89,39.45,76.85,44.05,82.45,52.24L3128,1022.9l31.73-47.64,35-52.51,2.79-4.19,36-54.1\" style=\"fill:none;stroke:#000;stroke-linecap:round;stroke-linejoin:round;stroke-width:2px\"/><path d=\"M232.72,820l57.11-34.21-.19,49,1.5,34.93.13,1.64L303.45,942l-.94,2.11a431.46,431.46,0,0,0,30.26,80.77l2.2.86,13.38,25.06.87,1.47,39.67,56.39L390,1110l19,21.23,42,38.45\" style=\"fill:none;stroke:#000;stroke-linecap:round;stroke-linejoin:round;stroke-width:2px\"/><g data-name=\"LINE\" id=\"LINE-3\"><polyline points=\"451.04 1169.69 461.79 1177.99 463.19 1179.04 486.61 1195.27 488.05 1196.19 548.9 1228.51 472.38 1309.93\" style=\"fill:none;stroke:#000;stroke-linecap:round;stroke-linejoin:round;stroke-width:2px\"/></g></g></g><g data-name=\"A-ANNO-NUMB copy\" id=\"A-ANNO-NUMB_copy\"><g id=\"TEXT\"><text style=\"font-size:18.30508041381836px;font-family:MyriadPro-Regular, Myriad Pro\" transform=\"translate(650.36 738.17)\">404</text></g><g data-name=\"TEXT\" id=\"TEXT-2\"><text style=\"font-size:18.30508041381836px;font-family:MyriadPro-Regular, Myriad Pro\" transform=\"translate(1011.18 554.47)\">406</text></g><g data-name=\"TEXT\" id=\"TEXT-3\"><text style=\"font-size:18.30508041381836px;font-family:MyriadPro-Regular, Myriad Pro\" transform=\"translate(1416.33 423.34)\">409</text></g><g data-name=\"TEXT\" id=\"TEXT-4\"><text style=\"font-size:18.30508041381836px;font-family:MyriadPro-Regular, Myriad Pro\" transform=\"translate(1826.37 357.06)\">413</text></g><g data-name=\"TEXT\" id=\"TEXT-5\"><text style=\"font-size:18.30508041381836px;font-family:MyriadPro-Regular, Myriad Pro\" transform=\"translate(2251.85 348.83)\">417</text></g><g data-name=\"TEXT\" id=\"TEXT-6\"><text style=\"font-size:18.30508041381836px;font-family:MyriadPro-Regular, Myriad Pro\" transform=\"translate(2682.9 438.29)\">426</text></g><g data-name=\"TEXT\" id=\"TEXT-7\"><text style=\"font-size:18.30508041381836px;font-family:MyriadPro-Regular, Myriad Pro\" transform=\"translate(3063.62 594.49)\">428</text></g></g></svg>"
      ],
      "text/plain": [
       "<IPython.core.display.SVG object>"
      ]
     },
     "metadata": {},
     "output_type": "display_data"
    },
    {
     "name": "stdout",
     "output_type": "stream",
     "text": [
      "{'104': 0.05, '406': 0.17235294117647054, '209': 0.17235294117647054, '206': 0.17235294117647054, '204': 0.17235294117647054, '304': 0.2947058823529412, '113': 0.3252941176470588, '128': 0.5241176470588235, '428': 0.5700000000000001, '309': 0.6158823529411764, '213': 0.6464705882352942, '306': 0.6464705882352942, '413': 0.6617647058823529, '109': 0.9370588235294117, '326': 1.2429411764705884, '318': 1.6023529411764708, '417': 1.6252941176470588, '328': 2.0}\n"
     ]
    },
    {
     "data": {
      "image/svg+xml": [
       "<svg viewBox=\"0 0 3265.63 2592\" xmlns=\"http://www.w3.org/2000/svg\"><title>1stFloorPoly</title><g id=\"Traces\"><g id=\"Classroom\"><polygon id=\"AC104\" points=\"323.97 1108.86 327.21 1106.92 321.2 1096.88 540.93 965.29 545.74 973.32 566.6 960.83 688.59 1164.51 667.73 1177 670.41 1181.48 695.75 1166.31 723.88 1213.24 508.87 1342 475.55 1361.96 445.83 1312.35 423.63 1275.28 323.97 1108.86\" style=\"fill:#C3C3C3\" transform=\"translate(496.41299999999995, 1103.3252499999999) scale(0.05)\"/><polygon id=\"AC106\" points=\"1061.03 1005.06 983.14 813.08 971.77 785.06 949.23 794.2 945.72 785.53 708.2 881.9 711.72 890.57 687.63 900.34 776.89 1120.34 800.98 1110.57 802.94 1115.4 775.6 1126.49 804.18 1173.95 824.16 1165.84 858.86 1151.77 1063.82 1067.06 1043.79 1017.68 1040.46 1019.04 1038.49 1014.2 1061.03 1005.06\" style=\"fill:none;stroke:#000;stroke-linecap:round;stroke-linejoin:round;stroke-width:0.7086614175px\"/><polygon id=\"AC109\" points=\"1452.7 904.89 1429.85 910.27 1431.05 915.35 1459.76 908.59 1463.89 963.83 1187.07 1029.02 1174.52 975.75 1178.03 974.93 1132.32 780.8 1125.93 737.92 1123.79 728.81 1373.29 670.06 1375.43 679.17 1398.28 673.79 1452.7 904.89 1452.7 904.89\" style=\"fill:#C3C3C3\" transform=\"translate(81.43581176470595, 53.471047058823565) scale(0.9370588235294117)\"/><polygon id=\"AC113\" points=\"1550.85 889.42 1576.96 887.4 1577.37 892.61 1547.93 894.88 1560.76 948.77 1840.73 927.15 1836.51 872.59 1832.92 872.87 1832.52 867.66 1856.93 865.78 1838.64 629.06 1814.23 630.95 1813.51 621.62 1557.96 641.36 1558.68 650.69 1532.59 652.71 1532.59 652.71 1550.9 890.09 1550.85 889.42\" style=\"fill:#C3C3C3\" transform=\"translate(1143.4645411764707, 529.7756852941177) scale(0.3252941176470588)\"/><polygon id=\"AC126\" points=\"2442.3 733.28 2420.77 726.99 2432.7 686.18 2457.66 693.47 2460.48 683.84 2706.51 755.75 2703.69 765.38 2727.03 772.22 2660.61 999.44 2637.27 992.62 2635.8 997.63 2664.16 1005.92 2640.51 1056.02 2370.99 977.23 2442.3 733.28\" style=\"fill:none;stroke:#000;stroke-linecap:round;stroke-linejoin:round;stroke-width:0.7086614175px\"/><polygon id=\"AC128\" points=\"2759.3 1034.93 2782.42 1046.8 2778.48 1054.48 2752.23 1041.02 2734.94 1093.65 2987.99 1223.46 3012.96 1174.77 3009.76 1173.13 3100.79 995.67 3123.21 1007.17 3142.62 969.34 3139.42 967.7 3116.98 956.19 3121.56 947.25 2893.5 830.26 2888.92 839.2 2865.81 827.34 2852.01 854.25 2759.3 1034.93 2865.16 828.63 2865.81 827.34 2759.3 1034.93\" style=\"fill:#C3C3C3\" transform=\"translate(1398.5135411764707, 487.9697647058825) scale(0.5241176470588235)\"/></g><g id=\"Outline\"><line style=\"fill:none;stroke:#000;stroke-linecap:round;stroke-linejoin:round;stroke-width:2px\" x1=\"2115.33\" x2=\"2023.83\" y1=\"618.15\" y2=\"609.45\"/><line style=\"fill:none;stroke:#000;stroke-linecap:round;stroke-linejoin:round;stroke-width:2px\" x1=\"3103.55\" x2=\"3112.63\" y1=\"1304.2\" y2=\"1286.5\"/><line style=\"fill:none;stroke:#000;stroke-linecap:round;stroke-linejoin:round;stroke-width:2px\" x1=\"3103.55\" x2=\"3084.57\" y1=\"1304.2\" y2=\"1294.46\"/><line style=\"fill:none;stroke:#000;stroke-linecap:round;stroke-linejoin:round;stroke-width:2px\" x1=\"3103.55\" x2=\"3084.57\" y1=\"1304.2\" y2=\"1294.46\"/><line style=\"fill:none;stroke:#000;stroke-linecap:round;stroke-linejoin:round;stroke-width:2px\" x1=\"3112.63\" x2=\"3111.04\" y1=\"1286.5\" y2=\"1285.69\"/><polyline points=\"2115.33 618.15 2293.37 635.07 2436.05 662.45 2738.63 750.89 2873.58 804.67 3158.57 950.87 3258.52 1002.12 3137.73 1237.58\" style=\"fill:none;stroke:#000;stroke-linecap:round;stroke-linejoin:round;stroke-width:2px\"/><g id=\"LINE\"><line style=\"fill:none;stroke:#000;stroke-linecap:round;stroke-linejoin:round;stroke-width:2px\" x1=\"323.38\" x2=\"335.49\" y1=\"1739.93\" y2=\"1760.16\"/></g><line style=\"fill:none;stroke:#000;stroke-linecap:round;stroke-linejoin:round;stroke-width:2px\" x1=\"71.88\" x2=\"83.72\" y1=\"1230.25\" y2=\"1250.02\"/><polyline points=\"2023.83 609.45 1979.65 605.25 1841.84 605.71 1527.56 629.99 1398.81 649.99 1091.99 722.25 967.89 761.77 675.8 880.28 559.19 938.4 71.88 1230.25\" style=\"fill:none;stroke:#000;stroke-linecap:round;stroke-linejoin:round;stroke-width:2px\"/><g data-name=\"LINE\" id=\"LINE-2\"><line style=\"fill:none;stroke:#000;stroke-linecap:round;stroke-linejoin:round;stroke-width:2px\" x1=\"3111.36\" x2=\"3111.04\" y1=\"1284.64\" y2=\"1285.69\"/></g><line style=\"fill:none;stroke:#000;stroke-linecap:round;stroke-linejoin:round;stroke-width:2px\" x1=\"3111.36\" x2=\"3137.73\" y1=\"1284.64\" y2=\"1237.58\"/><path d=\"M335.44,1760.08A2342.33,2342.33,0,0,1,592,1558.46l.71-2.18,73.62-47.94,74.29-44.49,77.81-42.72,86.85-43.31,80.94-36.42,80.25-32.56,83.43-30.27,92.48-29.45,85.57-23.56,84.3-19.85,87.09-17.1,95.89-14.9,87.29-10,29.1-2.28,29.9-2.31,28.25-2.19,88.7-3.52,95,.08,88.48,4.27,86,8.18,87.7,12.48,91.38,17.53,86.09,20.87,83,24.25,83.78,28.78,86.44,34.45L2727,1341l76.89,39.45,76.85,44,82.45,52.24L2979,1452.9l31.73-47.64,35-52.51,2.79-4.19,36-54.1\" style=\"fill:none;stroke:#000;stroke-linecap:round;stroke-linejoin:round;stroke-width:2px\"/><path d=\"M83.72,1250l57.11-34.21-.19,49,1.5,34.93.13,1.64L154.45,1372l-.94,2.11a431.46,431.46,0,0,0,30.26,80.77l2.2.86,13.38,25.06.87,1.47,39.67,56.39L241,1540l19,21.23,42,38.45\" style=\"fill:none;stroke:#000;stroke-linecap:round;stroke-linejoin:round;stroke-width:2px\"/><g data-name=\"LINE\" id=\"LINE-3\"><polyline points=\"302.04 1599.69 312.79 1607.99 314.19 1609.04 337.61 1625.27 339.05 1626.19 399.9 1658.51 323.38 1739.93\" style=\"fill:none;stroke:#000;stroke-linecap:round;stroke-linejoin:round;stroke-width:2px\"/></g></g></g><g id=\"A-ANNO-NUMB\"><g id=\"TEXT\"><text style=\"font-size:18.30508041381836px;font-family:MyriadPro-Regular, Myriad Pro\" transform=\"translate(2541.12 863.85)\">126</text></g><g data-name=\"TEXT\" id=\"TEXT-2\"><text style=\"font-size:18.30508041381836px;font-family:MyriadPro-Regular, Myriad Pro\" transform=\"translate(1684.92 782.82)\">113</text></g><g data-name=\"TEXT\" id=\"TEXT-3\"><text style=\"font-size:18.30508041381836px;font-family:MyriadPro-Regular, Myriad Pro\" transform=\"translate(1276.4 859.16)\">109</text></g><g data-name=\"TEXT\" id=\"TEXT-4\"><text style=\"font-size:18.30508041381836px;font-family:MyriadPro-Regular, Myriad Pro\" transform=\"translate(874.73 986.96)\">106</text></g><g data-name=\"TEXT\" id=\"TEXT-5\"><text style=\"font-size:18.30508041381836px;font-family:MyriadPro-Regular, Myriad Pro\" transform=\"translate(504.75 1164.58)\">104</text></g></g></svg>"
      ],
      "text/plain": [
       "<IPython.core.display.SVG object>"
      ]
     },
     "metadata": {},
     "output_type": "display_data"
    },
    {
     "name": "stdout",
     "output_type": "stream",
     "text": [
      "{'104': 0.05, '406': 0.17235294117647054, '209': 0.17235294117647054, '206': 0.17235294117647054, '204': 0.17235294117647054, '304': 0.2947058823529412, '113': 0.3252941176470588, '128': 0.5241176470588235, '428': 0.5700000000000001, '309': 0.6158823529411764, '213': 0.6464705882352942, '306': 0.6464705882352942, '413': 0.6617647058823529, '109': 0.9370588235294117, '326': 1.2429411764705884, '318': 1.6023529411764708, '417': 1.6252941176470588, '328': 2.0}\n"
     ]
    },
    {
     "data": {
      "image/svg+xml": [
       "<svg viewBox=\"0 0 3168 2592\" xmlns=\"http://www.w3.org/2000/svg\"><title>2ndFloorPoly</title><g id=\"Traces\"><g id=\"Classroom\"><polygon id=\"AC204\" points=\"629.3 720.15 646.61 749.06 739.75 904.58 723.77 914.15 726.18 918.18 751.92 960.17 548.01 1082.29 409.18 850.46 424.84 841.09 415.87 823.8 412.96 825.54 398.16 801.05 598 704.15 612.65 728.47 628.63 719.04 629.3 720.15\" style=\"fill:#C3C3C3\" transform=\"translate(475.9301647058823, 739.270905882353) scale(0.17235294117647054)\"/><polygon id=\"AC206\" points=\"751.92 698.02 819.23 864.82 837.92 857.24 839.68 861.59 858.15 907.25 1079.7 817.36 1059.45 772.43 1057.68 768.08 1074.95 761.07 1006.79 593.09 994.13 561.87 993.64 560.67 976.38 567.67 965.66 541.25 755.21 605.56 765.96 632.06 766.71 631.76 774.02 649.77 737.94 664.41 751.92 698.02\" style=\"fill:#C3C3C3\" transform=\"translate(752.1822000000001, 599.4233823529412) scale(0.17235294117647054)\"/><polygon id=\"AC209\" points=\"1180.25 733.95 1139.11 559.24 1139.11 559.24 1119.49 563.85 1109.99 523.49 1147.89 514.56 1143.44 495.64 1140.76 496.27 1133.99 468.29 1353.92 436.77 1360.46 464.51 1378.59 460.24 1386.61 494.3 1428.16 670.75 1410.03 675.02 1411.44 681.02 1414.56 680.11 1425.55 726.79 1176.4 785.46 1157.54 739.3 1180.25 733.95\" style=\"fill:#C3C3C3\" transform=\"translate(1050.3461911764707, 505.7875323529412) scale(0.17235294117647054)\"/><polygon id=\"AC213\" points=\"1778.07 641.74 1781.66 690.57 1538.81 709.33 1536.42 660.12 1536.06 655.43 1515.95 656.99 1499.32 441.36 1538.14 438.36 1536.64 418.97 1535.83 419.04 1533.63 390.52 1578.8 391 1753.65 392.88 1755.87 421.54 1774.44 420.1 1791.1 635.73 1772.52 637.16 1772.89 641.85 1778.07 641.74\" style=\"fill:#C3C3C3\" transform=\"translate(581.6301235294115, 194.4146617647058) scale(0.6464705882352942)\"/><polygon id=\"AC218\" points=\"1897.72 690.52 2135.07 713.08 2139.98 663.92 2138.32 663.92 2161.8 416.94 1945.57 375.41 1942.87 403.85 1943.67 403.93 1941.84 423.28 1903.07 419.59 1899.14 460.88 1919.2 462.79 1897.72 690.52\" style=\"fill:none;stroke:#000;stroke-linecap:round;stroke-linejoin:round;stroke-width:0.7086614175px\"/><polygon id=\"AC226\" points=\"2252.67 735.67 2266.49 688.4 2267.73 688.76 2318.09 516.47 2298.72 510.81 2310.35 471 2347.73 481.93 2353.18 463.27 2352.44 463.05 2360.46 435.62 2564.98 517.17 2557.37 543.21 2575.25 548.43 2514.57 756.02 2496.69 750.79 2480.31 802.21 2447.97 792.75 2252.67 735.67\" style=\"fill:none;stroke:#000;stroke-linecap:round;stroke-linejoin:round;stroke-width:0.7086614175px\"/><polygon id=\"AC228\" points=\"2590.76 845.63 2596.32 848.48 2626.3 863.86 2807.34 956.73 2830.26 912.06 2829.13 911.48 2941.94 691.58 2756.44 572.97 2743.4 598.38 2744.12 598.75 2735.25 616.05 2700.6 598.28 2700.01 599.43 2684.63 629.41 2601.87 790.7 2619.82 799.9 2617.67 804.08 2590.76 845.63\" style=\"fill:none;stroke:#000;stroke-linecap:round;stroke-linejoin:round;stroke-width:0.7086614175px\"/></g><g id=\"Outline\"><path d=\"M184.05,962.63l11.32,18.9,51.4-30.78,4.16,6.94-4.16,2.47-1.46,33.11,1.48,34.73,11,63.67.41,1.57c2.65,10,5.91,20.72,9.92,31.92a389.94,389.94,0,0,0,17.32,40.78l.83,1.39,12.06,22.57,36.59,52.23,19.3,21.55,46.54,41.06,22.41,15.6,56.18,30,1.48.63,4.13-2.47,4.16,6.94-78,67,10.86,18.13,232.25-182.35a2099,2099,0,0,1,207.69-123.88c317.74-165.49,599.63-208.44,702.05-221.14,126.55-15.69,356-42.06,645.1,24,264.2,60.38,460.12,171,578.25,250.12l110-165.21,17.08,8.76,8.17-15.93,22.41-43.7,106.29-207.19,2.31,1.18,3.29-6.42-17.12-11-72.82-46.56-213.33-136.4-2.38,4.63,2.06,1.32-13.2,25.74-27.51-14.11,5.14-10-129-51.44L2356,428.28l-1.46,5,2.27.89-8.12,27.8L2319,453.28l3.16-10.83-6.88-1.33L2242,427.05l-56.16-10.78-30.55-5.87-122.18-23.46L1939.83,369l-.49,5.19,2.36.83-2.7,28.43-30.78-2.92,1.07-11.2-49.39-.53-62.2-.67-20.57-.19-31.11-.33-15.55-.2-108.85-1.16-41.15-.44-53.58-.58.4,5.19,2.44,0,2.23,28.86-30.83,2.38-.86-11.17-371.65,53.27,1.2,5.07,2.41-.34,6.64,28.17-30.1,7.08-2.57-10.91-359,109.7,1.95,4.83,2.33-.73,10.89,26.83-28.65,11.63-4.21-10.39-6.15,3L391.53,798.3l2.68,4.46,2.19-1.06,14.88,24.84Z\" style=\"fill:none;stroke:#000;stroke-linecap:round;stroke-linejoin:round;stroke-width:2px\"/></g></g><g data-name=\"A-ANNO-NUMB copy\" id=\"A-ANNO-NUMB_copy\"><g id=\"TEXT\"><text style=\"font-size:11.663999557495117px;font-family:MyriadPro-Regular, Myriad Pro\" transform=\"translate(567.71 898.29)\">204</text></g><g data-name=\"TEXT\" id=\"TEXT-2\"><text style=\"font-size:11.663999557495117px;font-family:MyriadPro-Regular, Myriad Pro\" transform=\"translate(909.72 727.28)\">206</text></g><g data-name=\"TEXT\" id=\"TEXT-3\"><text style=\"font-size:11.663999557495117px;font-family:MyriadPro-Regular, Myriad Pro\" transform=\"translate(1264.82 610.28)\">209</text></g><g data-name=\"TEXT\" id=\"TEXT-4\"><text style=\"font-size:11.663999557495117px;font-family:MyriadPro-Regular, Myriad Pro\" transform=\"translate(1641.46 552.25)\">213</text></g><g data-name=\"TEXT\" id=\"TEXT-5\"><text style=\"font-size:11.663999557495117px;font-family:MyriadPro-Regular, Myriad Pro\" transform=\"translate(2018.99 559.17)\">218</text></g><g data-name=\"TEXT\" id=\"TEXT-6\"><text style=\"font-size:11.663999557495117px;font-family:MyriadPro-Regular, Myriad Pro\" transform=\"translate(2406.38 635.82)\">226</text></g><g data-name=\"TEXT\" id=\"TEXT-7\"><text style=\"font-size:11.663999557495117px;font-family:MyriadPro-Regular, Myriad Pro\" transform=\"translate(2753.55 766.59)\">228</text></g></g></svg>"
      ],
      "text/plain": [
       "<IPython.core.display.SVG object>"
      ]
     },
     "metadata": {},
     "output_type": "display_data"
    },
    {
     "name": "stdout",
     "output_type": "stream",
     "text": [
      "{'104': 0.05, '406': 0.17235294117647054, '209': 0.17235294117647054, '206': 0.17235294117647054, '204': 0.17235294117647054, '304': 0.2947058823529412, '113': 0.3252941176470588, '128': 0.5241176470588235, '428': 0.5700000000000001, '309': 0.6158823529411764, '213': 0.6464705882352942, '306': 0.6464705882352942, '413': 0.6617647058823529, '109': 0.9370588235294117, '326': 1.2429411764705884, '318': 1.6023529411764708, '417': 1.6252941176470588, '328': 2.0}\n"
     ]
    },
    {
     "data": {
      "image/svg+xml": [
       "<svg viewBox=\"0 0 3578.23 1501.05\" xmlns=\"http://www.w3.org/2000/svg\"><title>3rdFloorPoly</title><g id=\"Traces\"><g id=\"Classroom\"><polygon id=\"AC304\" points=\"403.56 703.25 422.06 692.17 410.96 673.64 409.57 674.47 393.24 647.2 613.33 540.7 629.61 567.87 647.37 557.24 667.34 590.59 762.3 749.14 765.81 755.01 770.83 763.39 753.07 774.03 755.75 778.51 777.99 765.19 798.7 816.58 591.15 940.87 557.79 960.85 403.53 703.27 403.56 703.25\" style=\"fill:#C3C3C3\" transform=\"translate(420.3341352941177, 529.5171911764706) scale(0.2947058823529412)\"/><polygon id=\"AC306\" points=\"771.2 495.58 808.91 480.28 800.79 460.26 795.95 462.22 783.85 432.4 788.01 431.15 1021.84 359.7 1033.75 389.05 1052.93 381.27 1064.3 409.29 1143.27 603.94 1124.09 611.73 1126.05 616.56 1150.07 606.82 1162.64 660.77 938.43 751.74 901.1 766.88 880.53 716.18 881.87 715.63 879.58 710 861.19 717.47 771.2 495.58\" style=\"fill:#C3C3C3\" transform=\"translate(341.8346588235293, 199.1395823529411) scale(0.6464705882352942)\"/><polygon id=\"AC309\" points=\"1516.78 513.41 1542.01 507.47 1546.14 562.71 1271.41 627.4 1258.87 574.14 1260.27 573.81 1214.56 379.68 1192.77 384.81 1182.21 339.96 1224.32 330.04 1219.37 309.02 1218.5 309.25 1211.21 278.3 1453.25 243.6 1460.5 274.43 1480.65 269.68 1489.56 307.53 1535.73 503.59 1515.58 508.33 1516.78 513.41\" style=\"fill:#C3C3C3\" transform=\"translate(524.0036911764707, 167.28323529411767) scale(0.6158823529411764)\"/><polygon id=\"AC313\" points=\"1938.99 464.67 1918.36 466.27 1918.76 471.47 1920.19 471.36 1924.41 525.92 1642.98 547.52 1630.18 493.77 1656.02 491.77 1655.62 486.56 1633.28 488.29 1633.28 488.29 1617.79 287.47 1614.79 248.7 1657.93 245.37 1656.27 223.84 1655.37 223.9 1652.92 192.22 1652.91 192.22 1897.39 194.84 1897.39 194.84 1899.85 226.68 1920.49 225.09 1922.82 255.24 1938.99 464.67\" style=\"fill:none;stroke:#000;stroke-linecap:round;stroke-linejoin:round;stroke-width:0.7086614175px\"/><polygon id=\"AC318\" points=\"2110.63 175.43 2107.63 207.03 2108.52 207.12 2106.48 228.62 2063.41 224.52 2060.55 254.63 2059.05 270.4 2081.33 272.51 2062.46 471.06 2036.65 468.61 2040.08 523.9 2321.18 549.18 2323.5 524.81 2324.79 496 2325.29 490.8 2345.89 492.76 2345.89 492.76 2368.64 253.54 2348.03 251.58 2350.88 221.57 2350.88 221.57 2342.51 219.96 2340.75 219.62 2327.31 217.04 2325.54 216.7 2206.76 193.89 2205 193.49 2177.07 188.12 2175.3 187.78 2161.87 185.2 2160.1 184.86 2110.63 175.43\" style=\"fill:#C3C3C3\" transform=\"translate(-1326.7696941176475, -218.2354823529412) scale(1.6023529411764708)\"/><polygon id=\"AC326\" points=\"2451.85 575.72 2467.2 523.19 2468.59 523.6 2524.54 332.17 2503.02 325.87 2515.95 281.65 2557.47 293.78 2563.53 273.05 2562.71 272.81 2571.62 242.34 2798.86 332.94 2790.41 361.87 2810.28 367.68 2801.79 396.7 2742.86 598.33 2742.86 598.33 2722.99 592.52 2721.52 597.53 2746.4 604.8 2722.76 654.9 2451.85 575.72\" style=\"fill:#C3C3C3\" transform=\"translate(-639.1940264705888, -108.98827058823538) scale(1.2429411764705884)\"/><polygon id=\"AC328\" points=\"3011.72 394.94 3057.2 424.03 3058.72 425 3070.25 432.37 3071.76 433.34 3095.72 448.66 3097.24 449.63 3217.86 526.75 3092.04 772.02 3080.14 798.29 3068.97 820.07 3032.48 802.97 2817.19 692.53 2834.47 639.9 2857.54 651.73 2859.92 647.09 2839.98 636.86 2839.98 636.86 2935.88 449.97 2949.68 423.06 2988.18 442.81 2998.04 423.59 2997.24 423.18 3011.72 394.94\" style=\"fill:#C3C3C3\" transform=\"translate(-3017.525, -607.505) scale(2.0)\"/></g><g id=\"Outline\"><line style=\"fill:none;stroke:#000;stroke-linecap:round;stroke-linejoin:round;stroke-width:2px\" x1=\"3190.55\" x2=\"3199.63\" y1=\"900.2\" y2=\"882.5\"/><line style=\"fill:none;stroke:#000;stroke-linecap:round;stroke-linejoin:round;stroke-width:2px\" x1=\"3190.55\" x2=\"3171.57\" y1=\"900.2\" y2=\"890.46\"/><line style=\"fill:none;stroke:#000;stroke-linecap:round;stroke-linejoin:round;stroke-width:2px\" x1=\"3190.55\" x2=\"3171.57\" y1=\"900.2\" y2=\"890.46\"/><line style=\"fill:none;stroke:#000;stroke-linecap:round;stroke-linejoin:round;stroke-width:2px\" x1=\"3199.63\" x2=\"3198.04\" y1=\"882.5\" y2=\"881.69\"/><g id=\"LINE\"><line style=\"fill:none;stroke:#000;stroke-linecap:round;stroke-linejoin:round;stroke-width:2px\" x1=\"410.38\" x2=\"422.49\" y1=\"1335.93\" y2=\"1356.16\"/></g><line style=\"fill:none;stroke:#000;stroke-linecap:round;stroke-linejoin:round;stroke-width:2px\" x1=\"158.88\" x2=\"170.72\" y1=\"826.25\" y2=\"846.02\"/><polyline points=\"158.88 826.25 406.83 677.75 383.92 645.3 759.44 463.6 764.99 474.79 793.13 463.43 779.09 427.85 1045.04 346.59 1178 305.96 1178.99 318.25 1211.31 310.64 1202.91 273.67 1615.86 214.48 1616.81 226.88 1647.23 224.32 1645.43 186.38 2070.32 190.93 2070.9 203.54 2099.39 204.9 2104.26 168.34 2529.06 249.92 2525.55 261.95 2554.8 270.23 2566.69 234.17 2968.55 394.39 2962.83 405.53 2988.18 418.53 3008.42 386 3345.52 598.12 3224.73 833.58\" style=\"fill:none;stroke:#000;stroke-linecap:round;stroke-linejoin:round;stroke-width:2px\"/><g data-name=\"LINE\" id=\"LINE-2\"><line style=\"fill:none;stroke:#000;stroke-linecap:round;stroke-linejoin:round;stroke-width:2px\" x1=\"3198.36\" x2=\"3198.04\" y1=\"880.64\" y2=\"881.69\"/></g><line style=\"fill:none;stroke:#000;stroke-linecap:round;stroke-linejoin:round;stroke-width:2px\" x1=\"3198.36\" x2=\"3224.73\" y1=\"880.64\" y2=\"833.58\"/><path d=\"M422.44,1356.08A2342.33,2342.33,0,0,1,679,1154.46l.71-2.18,73.62-47.94,74.29-44.49,77.81-42.72,86.85-43.31,80.94-36.42,80.25-32.56,83.43-30.27,92.48-29.45,85.57-23.56,84.3-19.85,87.09-17.1,95.89-14.9,87.29-10,29.1-2.28,29.9-2.31,28.25-2.19,88.7-3.52,95,.08,88.48,4.27,86,8.18,87.7,12.48,91.38,17.53,86.09,20.87,83,24.25,83.78,28.78,86.44,34.45L2814,937l76.89,39.45,76.85,44.05,82.45,52.24L3066,1048.9l31.73-47.64,35-52.51,2.79-4.19,36-54.1\" style=\"fill:none;stroke:#000;stroke-linecap:round;stroke-linejoin:round;stroke-width:2px\"/><path d=\"M170.72,846l57.11-34.21-.19,49,1.5,34.93.13,1.64L241.45,968l-.94,2.11a431.46,431.46,0,0,0,30.26,80.77l2.2.86,13.38,25.06.87,1.47,39.67,56.39L328,1136l19,21.23,42,38.45\" style=\"fill:none;stroke:#000;stroke-linecap:round;stroke-linejoin:round;stroke-width:2px\"/><g data-name=\"LINE\" id=\"LINE-3\"><polyline points=\"389.04 1195.69 399.79 1203.99 401.19 1205.04 424.61 1221.27 426.05 1222.19 486.9 1254.51 410.38 1335.93\" style=\"fill:none;stroke:#000;stroke-linecap:round;stroke-linejoin:round;stroke-width:2px\"/></g></g></g><g data-name=\"A-ANNO-NUMB copy\" id=\"A-ANNO-NUMB_copy\"><g id=\"TEXT\"><text style=\"font-size:18.30508041381836px;font-family:MyriadPro-Regular, Myriad Pro\" transform=\"translate(580.92 757.77)\">304</text></g><g data-name=\"TEXT\" id=\"TEXT-2\"><text style=\"font-size:18.30508041381836px;font-family:MyriadPro-Regular, Myriad Pro\" transform=\"translate(957.32 571.63)\">306</text></g><g data-name=\"TEXT\" id=\"TEXT-3\"><text style=\"font-size:18.30508041381836px;font-family:MyriadPro-Regular, Myriad Pro\" transform=\"translate(1363.55 442.86)\">309</text></g><g data-name=\"TEXT\" id=\"TEXT-4\"><text style=\"font-size:18.30508041381836px;font-family:MyriadPro-Regular, Myriad Pro\" transform=\"translate(1768.28 373.05)\">313</text></g><g data-name=\"TEXT\" id=\"TEXT-5\"><text style=\"font-size:18.30508041381836px;font-family:MyriadPro-Regular, Myriad Pro\" transform=\"translate(2200.41 382.15)\">318</text></g><g data-name=\"TEXT\" id=\"TEXT-6\"><text style=\"font-size:18.30508041381836px;font-family:MyriadPro-Regular, Myriad Pro\" transform=\"translate(2625.85 463.6)\">326</text></g><g data-name=\"TEXT\" id=\"TEXT-7\"><text style=\"font-size:18.30508041381836px;font-family:MyriadPro-Regular, Myriad Pro\" transform=\"translate(2999.75 618.12)\">328</text></g></g></svg>"
      ],
      "text/plain": [
       "<IPython.core.display.SVG object>"
      ]
     },
     "metadata": {},
     "output_type": "display_data"
    },
    {
     "name": "stdout",
     "output_type": "stream",
     "text": [
      "{'104': 0.05, '406': 0.17235294117647054, '209': 0.17235294117647054, '206': 0.17235294117647054, '204': 0.17235294117647054, '304': 0.2947058823529412, '113': 0.3252941176470588, '128': 0.5241176470588235, '428': 0.5700000000000001, '309': 0.6158823529411764, '213': 0.6464705882352942, '306': 0.6464705882352942, '413': 0.6617647058823529, '109': 0.9370588235294117, '326': 1.2429411764705884, '318': 1.6023529411764708, '417': 1.6252941176470588, '328': 2.0}\n"
     ]
    },
    {
     "data": {
      "image/svg+xml": [
       "<svg viewBox=\"0 0 3578.4 1501.2\" xmlns=\"http://www.w3.org/2000/svg\"><title>4thFloorPoly</title><g id=\"Traces\"><g id=\"Classroom\"><polygon id=\"AC404\" points=\"820.42 748.5 838.95 737.4 859.66 788.8 617.51 933.8 589.64 887.26 590.88 886.52 464.49 675.48 483.02 664.38 471.92 645.85 470.53 646.68 454.19 619.41 674.29 512.91 690.56 540.09 709.79 528.57 729.77 561.93 833.16 734.58 817.64 743.87 813.94 746.09 813.94 746.09 816.71 750.72 820.42 748.5\" style=\"fill:none;stroke:#000;stroke-linecap:round;stroke-linejoin:round;stroke-width:0.7086614175px\"/><polygon id=\"AC406\" points=\"942.82 687.85 918.8 697.59 947.38 745.05 1208.91 638.94 1188.34 588.23 1187.01 588.78 1184.95 583.78 1184.98 583.77 1205.74 575.35 1130.09 388.87 1115.47 352.84 1094.7 361.27 1082.8 331.92 848.96 403.36 860.91 432.81 861.74 432.47 869.86 452.49 829.77 468.75 844.39 504.78 920.02 691.27 940.79 682.84 940.79 682.84 942.82 687.85\" style=\"fill:#C3C3C3\" transform=\"translate(843.6537529411764, 445.67552647058824) scale(0.17235294117647054)\"/><polygon id=\"AC409\" points=\"1275.52 351.89 1253.72 357.03 1243.17 312.17 1285.28 302.26 1280.33 281.23 1279.46 281.46 1272.17 250.51 1272.17 250.51 1514.2 215.82 1521.46 246.64 1543.27 241.5 1552.18 279.35 1598.31 475.23 1576.48 480.37 1577.73 485.63 1602.96 479.68 1607.1 534.93 1332.37 599.62 1319.83 546.36 1321.23 546.02 1275.52 351.89\" style=\"fill:none;stroke:#000;stroke-linecap:round;stroke-linejoin:round;stroke-width:0.7086614175px\"/><polygon id=\"AC413\" points=\"1712.67 464.32 1716.98 463.98 1691.13 465.98 1703.95 519.87 1985.36 498.13 1981.15 443.57 1979.71 443.69 1979.3 438.3 2000.83 436.64 1984.67 227.38 1982.34 197.23 1960.8 198.9 1958.34 167.01 1713.86 164.43 1713.88 164.43 1716.32 196.12 1717.22 196.05 1718.88 217.58 1675.75 220.92 1678.74 259.68 1694.22 460.32 1694.2 460.33 1715.74 458.66 1716.56 458.6 1716.98 463.98 1712.67 464.32\" style=\"fill:#C3C3C3\" transform=\"translate(621.7745588235294, 115.72720588235293) scale(0.6617647058823529)\"/><polygon id=\"AC417\" points=\"2382 522.82 2101.03 496.11 2097.61 440.82 2123.41 443.27 2142.29 244.73 2120 242.61 2124.37 196.74 2167.43 200.83 2169.48 179.33 2168.58 179.24 2171.59 147.65 2221.04 157.14 2222.81 157.48 2236.24 160.06 2238.01 160.4 2265.94 165.76 2267.71 166.11 2386.47 188.91 2388.24 189.25 2401.68 191.83 2403.47 192.18 2411.84 193.78 2408.99 223.8 2431.3 225.92 2408.55 465.14 2386.24 463.02 2385.75 468.21 2384.46 497.02 2382 522.82\" style=\"fill:#C3C3C3\" transform=\"translate(-1415.9503911764705, -209.62047352941175) scale(1.6252941176470588)\"/><polygon id=\"AC426\" points=\"2783.94 564.73 2782.48 569.74 2807.36 577.02 2783.71 627.12 2765.74 621.86 2729.81 611.36 2512.81 547.93 2528.16 495.41 2529.54 495.81 2598.43 260.15 2618.43 266 2624.49 245.26 2623.66 245.02 2632.57 214.55 2859.82 305.15 2851.36 334.08 2872.87 340.37 2864.39 369.4 2805.45 571.02 2783.94 564.73\" style=\"fill:none;stroke:#000;stroke-linecap:round;stroke-linejoin:round;stroke-width:0.7086614175px\"/><polygon id=\"AC428\" points=\"3129.27 793.57 2878.14 664.75 2895.36 612.08 2918.49 623.95 2920.88 619.3 2900.94 609.07 2996.83 422.18 3010.64 395.27 3049.13 415.02 3058.99 395.8 3058.19 395.39 3072.68 367.16 3278.79 498.94 3152.96 744.22 3154.24 744.88 3129.27 793.57\" style=\"fill:#C3C3C3\" transform=\"translate(1323.73995, 249.55694999999997) scale(0.5700000000000001)\"/></g><g id=\"Outline\"><line style=\"fill:none;stroke:#000;stroke-linecap:round;stroke-linejoin:round;stroke-width:2px\" x1=\"3252.55\" x2=\"3261.63\" y1=\"874.2\" y2=\"856.5\"/><line style=\"fill:none;stroke:#000;stroke-linecap:round;stroke-linejoin:round;stroke-width:2px\" x1=\"3252.55\" x2=\"3233.57\" y1=\"874.2\" y2=\"864.46\"/><line style=\"fill:none;stroke:#000;stroke-linecap:round;stroke-linejoin:round;stroke-width:2px\" x1=\"3252.55\" x2=\"3233.57\" y1=\"874.2\" y2=\"864.46\"/><line style=\"fill:none;stroke:#000;stroke-linecap:round;stroke-linejoin:round;stroke-width:2px\" x1=\"3261.63\" x2=\"3260.04\" y1=\"856.5\" y2=\"855.69\"/><g id=\"LINE\"><line style=\"fill:none;stroke:#000;stroke-linecap:round;stroke-linejoin:round;stroke-width:2px\" x1=\"472.38\" x2=\"484.49\" y1=\"1309.93\" y2=\"1330.16\"/></g><line style=\"fill:none;stroke:#000;stroke-linecap:round;stroke-linejoin:round;stroke-width:2px\" x1=\"220.88\" x2=\"232.72\" y1=\"800.25\" y2=\"820.02\"/><polyline points=\"220.88 800.25 468.83 651.75 445.92 619.3 821.44 437.6 826.99 448.79 855.13 437.43 841.09 401.85 1107.04 320.59 1240 279.96 1240.99 292.25 1273.31 284.64 1264.91 247.67 1677.86 188.48 1678.81 200.88 1709.23 198.32 1707.43 160.38 2132.32 164.93 2132.9 177.54 2161.39 178.9 2166.26 142.34 2591.06 223.92 2587.55 235.95 2616.8 244.23 2628.69 208.17 3030.55 368.39 3024.83 379.53 3050.18 392.53 3070.42 360 3407.52 572.12 3286.73 807.58\" style=\"fill:none;stroke:#000;stroke-linecap:round;stroke-linejoin:round;stroke-width:2px\"/><g data-name=\"LINE\" id=\"LINE-2\"><line style=\"fill:none;stroke:#000;stroke-linecap:round;stroke-linejoin:round;stroke-width:2px\" x1=\"3260.36\" x2=\"3260.04\" y1=\"854.64\" y2=\"855.69\"/></g><line style=\"fill:none;stroke:#000;stroke-linecap:round;stroke-linejoin:round;stroke-width:2px\" x1=\"3260.36\" x2=\"3286.73\" y1=\"854.64\" y2=\"807.58\"/><path d=\"M484.44,1330.08A2342.33,2342.33,0,0,1,741,1128.46l.71-2.18,73.62-47.94,74.29-44.49,77.81-42.72,86.85-43.31,80.94-36.42,80.25-32.56,83.43-30.27,92.48-29.45,85.57-23.56,84.3-19.85,87.09-17.1,95.89-14.9,87.29-10,29.1-2.28,29.9-2.31,28.25-2.19,88.7-3.52,95.05.08,88.48,4.27,86,8.18,87.7,12.48,91.38,17.53,86.09,20.87,83,24.25,83.78,28.78,86.44,34.45L2876,911l76.89,39.45,76.85,44.05,82.45,52.24L3128,1022.9l31.73-47.64,35-52.51,2.79-4.19,36-54.1\" style=\"fill:none;stroke:#000;stroke-linecap:round;stroke-linejoin:round;stroke-width:2px\"/><path d=\"M232.72,820l57.11-34.21-.19,49,1.5,34.93.13,1.64L303.45,942l-.94,2.11a431.46,431.46,0,0,0,30.26,80.77l2.2.86,13.38,25.06.87,1.47,39.67,56.39L390,1110l19,21.23,42,38.45\" style=\"fill:none;stroke:#000;stroke-linecap:round;stroke-linejoin:round;stroke-width:2px\"/><g data-name=\"LINE\" id=\"LINE-3\"><polyline points=\"451.04 1169.69 461.79 1177.99 463.19 1179.04 486.61 1195.27 488.05 1196.19 548.9 1228.51 472.38 1309.93\" style=\"fill:none;stroke:#000;stroke-linecap:round;stroke-linejoin:round;stroke-width:2px\"/></g></g></g><g data-name=\"A-ANNO-NUMB copy\" id=\"A-ANNO-NUMB_copy\"><g id=\"TEXT\"><text style=\"font-size:18.30508041381836px;font-family:MyriadPro-Regular, Myriad Pro\" transform=\"translate(650.36 738.17)\">404</text></g><g data-name=\"TEXT\" id=\"TEXT-2\"><text style=\"font-size:18.30508041381836px;font-family:MyriadPro-Regular, Myriad Pro\" transform=\"translate(1011.18 554.47)\">406</text></g><g data-name=\"TEXT\" id=\"TEXT-3\"><text style=\"font-size:18.30508041381836px;font-family:MyriadPro-Regular, Myriad Pro\" transform=\"translate(1416.33 423.34)\">409</text></g><g data-name=\"TEXT\" id=\"TEXT-4\"><text style=\"font-size:18.30508041381836px;font-family:MyriadPro-Regular, Myriad Pro\" transform=\"translate(1826.37 357.06)\">413</text></g><g data-name=\"TEXT\" id=\"TEXT-5\"><text style=\"font-size:18.30508041381836px;font-family:MyriadPro-Regular, Myriad Pro\" transform=\"translate(2251.85 348.83)\">417</text></g><g data-name=\"TEXT\" id=\"TEXT-6\"><text style=\"font-size:18.30508041381836px;font-family:MyriadPro-Regular, Myriad Pro\" transform=\"translate(2682.9 438.29)\">426</text></g><g data-name=\"TEXT\" id=\"TEXT-7\"><text style=\"font-size:18.30508041381836px;font-family:MyriadPro-Regular, Myriad Pro\" transform=\"translate(3063.62 594.49)\">428</text></g></g></svg>"
      ],
      "text/plain": [
       "<IPython.core.display.SVG object>"
      ]
     },
     "metadata": {},
     "output_type": "display_data"
    }
   ],
   "source": [
    "semesters = [('fa17', fa17_room_usage), ('sp18', sp18_room_usage)]\n",
    "\n",
    "for name, data in semesters:\n",
    "    for filename in filenames:\n",
    "        inFile = './' + filename + '.svg'\n",
    "        outFile = './' + name + '_' + filename +'_util.svg'\n",
    "        xml = et.parse(inFile)\n",
    "        ac2 = xml.getroot()\n",
    "        traces = ac2.findall('.//{http://www.w3.org/2000/svg}g')[0]\n",
    "        classroom = traces.findall('.//{http://www.w3.org/2000/svg}g')[0]\n",
    "        utilization = np.transpose(np.array([data['Room'],data['Weekly Length'] / pd.Timedelta(1, unit='h')]))\n",
    "        utilization[:,1] = rescale(utilization[:,1], 0.05, 2.0)\n",
    "        utilization = dict(utilization)\n",
    "\n",
    "        for polygon in classroom.findall('.//{http://www.w3.org/2000/svg}polygon'):\n",
    "            attrib = dict(polygon.attrib)\n",
    "            room_no = attrib['id'][-3:]\n",
    "            try:\n",
    "                scale = utilization[room_no]\n",
    "            except KeyError:\n",
    "                scale = 0.0\n",
    "            if scale > 0:\n",
    "                pts = attrib['points']\n",
    "                pts = np.array(pts.split(' '), dtype=float)\n",
    "                pts = np.reshape(pts, (-1,2))\n",
    "                center = getPolygonCenter(pts)\n",
    "                polygon.set('style', 'fill:#C3C3C3')\n",
    "                polygon.set('transform', getRecenterString(center, scale) + ' scale(' + str(scale) +')')\n",
    "\n",
    "        xml.write(outFile)\n",
    "        display(SVG(filename=outFile))"
   ]
  },
  {
   "cell_type": "code",
   "execution_count": null,
   "metadata": {},
   "outputs": [],
   "source": []
  }
 ],
 "metadata": {
  "kernelspec": {
   "display_name": "Python 3",
   "language": "python",
   "name": "python3"
  },
  "language_info": {
   "codemirror_mode": {
    "name": "ipython",
    "version": 3
   },
   "file_extension": ".py",
   "mimetype": "text/x-python",
   "name": "python",
   "nbconvert_exporter": "python",
   "pygments_lexer": "ipython3",
   "version": "3.7.1"
  }
 },
 "nbformat": 4,
 "nbformat_minor": 2
}
