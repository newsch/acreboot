{
 "cells": [
  {
   "cell_type": "code",
   "execution_count": null,
   "metadata": {},
   "outputs": [],
   "source": [
    "import matplotlib.pyplot as plt\n",
    "import numpy as np\n",
    "import pandas as pd\n",
    "\n",
    "# import adastra"
   ]
  },
  {
   "cell_type": "code",
   "execution_count": null,
   "metadata": {},
   "outputs": [],
   "source": [
    "%load_ext autoreload\n",
    "%autoreload 1\n",
    "%aimport adastra"
   ]
  },
  {
   "cell_type": "code",
   "execution_count": null,
   "metadata": {},
   "outputs": [],
   "source": [
    "fa17missing = [\n",
    "    ('OIE1000', 5/3),  # OIE\n",
    "    ('ENGR3590', 10/3),  # CompRobo\n",
    "    ('AHSE1148', 10/3),  # DIRT TO SHIRT\n",
    "    ('ENGR3590', 3),  # ADE\n",
    "    ('ENGR3240', 16/3),  # TELL THE STORY\n",
    "    ('MTH2132', 10/3),  # BAYESIAN\n",
    "    ('AHSE1100', 10/3),  # HISTECH\n",
    "    ('ENGR3299', 8),  # RETURN DESIGN\n",
    "]\n",
    "sp18missing = [\n",
    "    ('ENGR3299', 10/3),  # BIOMIMICRY\n",
    "    ('ENGR3599A', 10/3),  # HTL\n",
    "    ('ENGR3299B', 8),  # RETURN DESIGN\n",
    "]\n",
    "tup_to_dict = lambda a: [{'Course/Customer': code, 'Weekly Length': pd.to_timedelta(hours, unit='h')} for code, hours in a]\n",
    "fa17missing, sp18missing = tuple(tup_to_dict(l) for l in [fa17missing, sp18missing])"
   ]
  },
  {
   "cell_type": "code",
   "execution_count": null,
   "metadata": {},
   "outputs": [],
   "source": [
    "fa17courses = adastra.load_schedule_file('data/ad astra test fa17.xls')\n",
    "sp18courses = adastra.load_schedule_file('data/ad astra test sp18.xls')"
   ]
  },
  {
   "cell_type": "code",
   "execution_count": null,
   "metadata": {},
   "outputs": [],
   "source": [
    "add_missing = lambda a, m: pd.concat([a, pd.DataFrame(m)], sort=True, ignore_index=False).reset_index()\n",
    "fa17courses = add_missing(fa17courses, fa17missing)\n",
    "sp18courses = add_missing(sp18courses, sp18missing)\n",
    "fa17courses[-10:]"
   ]
  },
  {
   "cell_type": "code",
   "execution_count": null,
   "metadata": {},
   "outputs": [],
   "source": [
    "fa17cat = pd.read_csv('Class and Room Categorization - Classes Fall 2017.csv', usecols=range(13))\n",
    "fa17cat.drop_duplicates(subset='Course Code', inplace=True)\n",
    "sp18cat = pd.read_csv('Class and Room Categorization - Classes Spring 2018.csv', usecols=range(13))\n",
    "sp18cat.drop_duplicates(subset='Course Code', inplace=True)"
   ]
  },
  {
   "cell_type": "code",
   "execution_count": null,
   "metadata": {},
   "outputs": [],
   "source": [
    "category_colors = {  # map for category colors\n",
    "    'PROJECT - BASED - 3d': '#1155cc',\n",
    "    'PROJECT - BASED - 2d': '#3c78d8',\n",
    "    'PROJECT - BASED - digital': '#6d9eeb',\n",
    "    'LECTURE': '#e69138',\n",
    "    'LAB': '#38761d',\n",
    "    'NOT IN AC': '#cc0000',\n",
    "    'DISCUSSION': '#674ea7'\n",
    "}\n",
    "\n",
    "category_names = {  # map for category names\n",
    "    'PROJECT - BASED - 3d': 'project-based 3d',\n",
    "    'PROJECT - BASED - 2d': 'project-based 2d',\n",
    "    'PROJECT - BASED - digital': 'project-based digital',\n",
    "    'LECTURE': '\"lecture\"',\n",
    "    'LAB': 'lab',\n",
    "    'DISCUSSION': 'discussion'\n",
    "}\n",
    "\n",
    "def merge(sched, cat, sched_code='Course/Customer', cat_code='Course Code'):\n",
    "\n",
    "#     def agg_time(frame, group_col, agg_col):\n",
    "#         return frame.groupby(group_col, as_index=False)[agg_col].agg(np.sum)\n",
    "\n",
    "    return pd.merge(\n",
    "        left=sched,\n",
    "        right=cat,\n",
    "        how='left',\n",
    "        left_on=sched_code,\n",
    "        right_on=cat_code,\n",
    "        indicator=True,\n",
    "#         validate='one_to_many'\n",
    "    )\n",
    "\n",
    "agg_by_time = lambda a: a.groupby('Course/Customer', as_index=False)['Weekly Length'].agg(np.sum)\n",
    "\n",
    "def plot_pie_cat_totals(courses, group_col='Primary Category', agg_col='Weekly Length', fig=None):\n",
    "    cat_totals = courses.groupby(group_col, as_index=False)[agg_col].agg(np.sum)\n",
    "#     cat_totals.sort_values('Weekly Length', inplace=True)  # sort by value\n",
    "    cat_totals.sort_values('Primary Category', inplace=True)  # sort by label\n",
    "    \n",
    "    # fig = plt.figure()\n",
    "    return adastra.plot_pie(\n",
    "        cat_totals[agg_col] / pd.Timedelta(1,unit='h'),\n",
    "        labels=[category_names.get(category, category) for category in cat_totals[group_col]],\n",
    "        colors=[category_colors.get(category, 'grey') for category in cat_totals[group_col]],\n",
    "        fig=fig\n",
    "        )"
   ]
  },
  {
   "cell_type": "markdown",
   "metadata": {},
   "source": [
    "## Plot pie charts of courses per semester"
   ]
  },
  {
   "cell_type": "code",
   "execution_count": null,
   "metadata": {},
   "outputs": [],
   "source": [
    "cat_cols = ['Course Code','Course Title','Primary Category','Seconday Category']\n",
    "fa17footprint, sp18footprint = tuple(merge(agg_by_time(sched), cat[cat_cols]) for sched, cat in [(fa17courses, fa17cat),(sp18courses, sp18cat)])"
   ]
  },
  {
   "cell_type": "markdown",
   "metadata": {},
   "source": [
    "Check for missed courses"
   ]
  },
  {
   "cell_type": "code",
   "execution_count": null,
   "metadata": {},
   "outputs": [],
   "source": [
    "fa17footprint[fa17footprint['_merge'] == 'right_only']"
   ]
  },
  {
   "cell_type": "code",
   "execution_count": null,
   "metadata": {},
   "outputs": [],
   "source": [
    "sp18footprint[sp18footprint['_merge'] == 'right_only']"
   ]
  },
  {
   "cell_type": "markdown",
   "metadata": {},
   "source": [
    "### Space Usage"
   ]
  },
  {
   "cell_type": "code",
   "execution_count": null,
   "metadata": {},
   "outputs": [],
   "source": [
    "footprints = [\n",
    "    ('Fall 2017', fa17footprint),\n",
    "    ('Spring 2018', sp18footprint)\n",
    "]\n",
    "for name, data in footprints:\n",
    "    fig = plt.figure(figsize=(7,5))\n",
    "    plt.title(name+' AC Usage by Course Category', y=1.05)\n",
    "    plot_pie_cat_totals(data[data['Primary Category'] != 'NOT IN AC'], fig=fig)\n",
    "    plt.savefig('figs/'+name.lower().strip(' ')+'_footprint'+'.eps')"
   ]
  },
  {
   "cell_type": "markdown",
   "metadata": {},
   "source": [
    "### Course Offerings"
   ]
  },
  {
   "cell_type": "code",
   "execution_count": null,
   "metadata": {},
   "outputs": [],
   "source": [
    "agg_by_course = lambda a: a.groupby('Primary Category', as_index=False)['Course/Customer'].agg('count')\n",
    "agg_by_course(fa17footprint)"
   ]
  },
  {
   "cell_type": "code",
   "execution_count": null,
   "metadata": {},
   "outputs": [],
   "source": [
    "agg_by_course(sp18footprint)"
   ]
  },
  {
   "cell_type": "code",
   "execution_count": null,
   "metadata": {},
   "outputs": [],
   "source": [
    "for name, data in footprints:\n",
    "    fig = plt.figure(figsize=(7,5))\n",
    "    plt.title(name+' Course Offerings by Category', y=1.05)\n",
    "    cat_totals = agg_by_course(data[data['Primary Category'] != 'NOT IN AC'])\n",
    "    \n",
    "    adastra.plot_pie(\n",
    "        cat_totals['Course/Customer'],\n",
    "        labels=[category_names.get(category, category) for category in cat_totals['Primary Category']],\n",
    "        colors=[category_colors.get(category, 'grey') for category in cat_totals['Primary Category']],\n",
    "        fig=fig\n",
    "    )\n",
    "    plt.savefig('figs/'+name.lower().strip(' ')+'_offerings'+'.eps')"
   ]
  },
  {
   "cell_type": "markdown",
   "metadata": {},
   "source": [
    "## Plot bar charts of courses per semester"
   ]
  },
  {
   "cell_type": "code",
   "execution_count": null,
   "metadata": {},
   "outputs": [],
   "source": [
    "import re"
   ]
  },
  {
   "cell_type": "code",
   "execution_count": null,
   "metadata": {},
   "outputs": [],
   "source": [
    "def plot_courses_bar(courses):\n",
    "    def format_titles(titles):\n",
    "        # parse out course title\n",
    "        extractor = re.compile('^(?:(\\w{3,4} ?\\d{0,5}\\w?)[:|/] )?(.*)$')\n",
    "        just_titles = [extractor.match(a).group(2) for a in titles]\n",
    "        # trim length of strings\n",
    "        max_len = 45\n",
    "        abbr_titles=[a[:max_len-3]+'...' if len(a) > max_len else a for a in just_titles]\n",
    "        return abbr_titles\n",
    "        \n",
    "    return adastra.plot_barh(\n",
    "        labels=format_titles(courses['Course Title'].astype(str)),\n",
    "        values=courses['Weekly Length'] / pd.Timedelta(1, unit='h'),\n",
    "        color=[category_colors.get(category, 'grey') for category in courses['Primary Category']],\n",
    "        fig = plt.figure(figsize=(10,20))\n",
    "    )\n",
    "\n",
    "for name, data in footprints:\n",
    "    fig = plot_courses_bar(data[data['Primary Category'] != 'NOT IN AC'][pd.notnull(data['Course Title'])].sort_values('Weekly Length'))\n",
    "    plt.xlim([0,18])\n",
    "    plt.title(name+' Courses by AC footprint')\n",
    "    plt.xlabel('weekly room-hours')\n",
    "    fig.subplots_adjust(left=0.5)  # make room for the course labels\n",
    "    plt.savefig('figs/'+name.lower().strip(' ')+'_courses_footprint'+'.eps')"
   ]
  },
  {
   "cell_type": "code",
   "execution_count": null,
   "metadata": {},
   "outputs": [],
   "source": [
    "sp18courses[sp18courses['Course/Customer'] == 'ENGR2510']"
   ]
  },
  {
   "cell_type": "code",
   "execution_count": null,
   "metadata": {},
   "outputs": [],
   "source": []
  }
 ],
 "metadata": {
  "kernelspec": {
   "display_name": "Python 3",
   "language": "python",
   "name": "python3"
  },
  "language_info": {
   "codemirror_mode": {
    "name": "ipython",
    "version": 3
   },
   "file_extension": ".py",
   "mimetype": "text/x-python",
   "name": "python",
   "nbconvert_exporter": "python",
   "pygments_lexer": "ipython3",
   "version": "3.7.1"
  }
 },
 "nbformat": 4,
 "nbformat_minor": 2
}
