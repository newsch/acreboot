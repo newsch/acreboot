{
 "cells": [
  {
   "cell_type": "markdown",
   "metadata": {},
   "source": [
    "Playing with data from [onset® HOBO® Occupancy/Light Data Loggers](https://www.onsetcomp.com/products/data-loggers/occupancy-light).  \n",
    "In particular, this uses `.csv` files exported from [HOBOware](HOBOware)."
   ]
  },
  {
   "cell_type": "code",
   "execution_count": 207,
   "metadata": {
    "collapsed": true
   },
   "outputs": [],
   "source": [
    "import matplotlib.pyplot as plt\n",
    "import csv\n",
    "import pandas as pd\n",
    "import numpy as np"
   ]
  },
  {
   "cell_type": "code",
   "execution_count": 208,
   "metadata": {},
   "outputs": [],
   "source": [
    "filepath = 'data/raw/datalogger_test.csv'\n",
    "with open(filepath) as file:\n",
    "#     reader = csv.DictReader(file)\n",
    "#     data1 = [row for row in reader]\n",
    "    data = pd.read_csv(file,header=1)  # ignore first line"
   ]
  },
  {
   "cell_type": "code",
   "execution_count": 209,
   "metadata": {},
   "outputs": [
    {
     "data": {
      "text/html": [
       "<div>\n",
       "<style scoped>\n",
       "    .dataframe tbody tr th:only-of-type {\n",
       "        vertical-align: middle;\n",
       "    }\n",
       "\n",
       "    .dataframe tbody tr th {\n",
       "        vertical-align: top;\n",
       "    }\n",
       "\n",
       "    .dataframe thead th {\n",
       "        text-align: right;\n",
       "    }\n",
       "</style>\n",
       "<table border=\"1\" class=\"dataframe\">\n",
       "  <thead>\n",
       "    <tr style=\"text-align: right;\">\n",
       "      <th></th>\n",
       "      <th>#</th>\n",
       "      <th>Date Time, GMT-04:00</th>\n",
       "      <th>Light (LGR S/N: 10991767, SEN S/N: 10991767)</th>\n",
       "      <th>Occupancy (LGR S/N: 10991767, SEN S/N: 10991767)</th>\n",
       "      <th>Started (LGR S/N: 10991767)</th>\n",
       "      <th>Internal Calibration (LGR S/N: 10991767)</th>\n",
       "      <th>Button Up (LGR S/N: 10991767)</th>\n",
       "      <th>Button Down (LGR S/N: 10991767)</th>\n",
       "      <th>Stopped (LGR S/N: 10991767)</th>\n",
       "      <th>End Of File (LGR S/N: 10991767)</th>\n",
       "    </tr>\n",
       "  </thead>\n",
       "  <tbody>\n",
       "    <tr>\n",
       "      <th>0</th>\n",
       "      <td>1</td>\n",
       "      <td>10/05/18 07:53:09 PM</td>\n",
       "      <td>1.0</td>\n",
       "      <td>0.0</td>\n",
       "      <td>Logged</td>\n",
       "      <td>Logged</td>\n",
       "      <td>NaN</td>\n",
       "      <td>NaN</td>\n",
       "      <td>NaN</td>\n",
       "      <td>NaN</td>\n",
       "    </tr>\n",
       "    <tr>\n",
       "      <th>1</th>\n",
       "      <td>2</td>\n",
       "      <td>10/05/18 07:53:10 PM</td>\n",
       "      <td>NaN</td>\n",
       "      <td>1.0</td>\n",
       "      <td>NaN</td>\n",
       "      <td>NaN</td>\n",
       "      <td>Logged</td>\n",
       "      <td>NaN</td>\n",
       "      <td>NaN</td>\n",
       "      <td>NaN</td>\n",
       "    </tr>\n",
       "    <tr>\n",
       "      <th>2</th>\n",
       "      <td>3</td>\n",
       "      <td>10/05/18 07:53:15 PM</td>\n",
       "      <td>0.0</td>\n",
       "      <td>NaN</td>\n",
       "      <td>NaN</td>\n",
       "      <td>NaN</td>\n",
       "      <td>NaN</td>\n",
       "      <td>NaN</td>\n",
       "      <td>NaN</td>\n",
       "      <td>NaN</td>\n",
       "    </tr>\n",
       "    <tr>\n",
       "      <th>3</th>\n",
       "      <td>4</td>\n",
       "      <td>10/05/18 07:53:19 PM</td>\n",
       "      <td>1.0</td>\n",
       "      <td>NaN</td>\n",
       "      <td>NaN</td>\n",
       "      <td>NaN</td>\n",
       "      <td>NaN</td>\n",
       "      <td>NaN</td>\n",
       "      <td>NaN</td>\n",
       "      <td>NaN</td>\n",
       "    </tr>\n",
       "    <tr>\n",
       "      <th>4</th>\n",
       "      <td>5</td>\n",
       "      <td>10/05/18 07:53:24 PM</td>\n",
       "      <td>0.0</td>\n",
       "      <td>NaN</td>\n",
       "      <td>NaN</td>\n",
       "      <td>NaN</td>\n",
       "      <td>NaN</td>\n",
       "      <td>NaN</td>\n",
       "      <td>NaN</td>\n",
       "      <td>NaN</td>\n",
       "    </tr>\n",
       "  </tbody>\n",
       "</table>\n",
       "</div>"
      ],
      "text/plain": [
       "   #  Date Time, GMT-04:00  Light (LGR S/N: 10991767, SEN S/N: 10991767)  \\\n",
       "0  1  10/05/18 07:53:09 PM                                           1.0   \n",
       "1  2  10/05/18 07:53:10 PM                                           NaN   \n",
       "2  3  10/05/18 07:53:15 PM                                           0.0   \n",
       "3  4  10/05/18 07:53:19 PM                                           1.0   \n",
       "4  5  10/05/18 07:53:24 PM                                           0.0   \n",
       "\n",
       "   Occupancy (LGR S/N: 10991767, SEN S/N: 10991767)  \\\n",
       "0                                               0.0   \n",
       "1                                               1.0   \n",
       "2                                               NaN   \n",
       "3                                               NaN   \n",
       "4                                               NaN   \n",
       "\n",
       "  Started (LGR S/N: 10991767) Internal Calibration (LGR S/N: 10991767)  \\\n",
       "0                      Logged                                   Logged   \n",
       "1                         NaN                                      NaN   \n",
       "2                         NaN                                      NaN   \n",
       "3                         NaN                                      NaN   \n",
       "4                         NaN                                      NaN   \n",
       "\n",
       "  Button Up (LGR S/N: 10991767) Button Down (LGR S/N: 10991767)  \\\n",
       "0                           NaN                             NaN   \n",
       "1                        Logged                             NaN   \n",
       "2                           NaN                             NaN   \n",
       "3                           NaN                             NaN   \n",
       "4                           NaN                             NaN   \n",
       "\n",
       "  Stopped (LGR S/N: 10991767) End Of File (LGR S/N: 10991767)  \n",
       "0                         NaN                             NaN  \n",
       "1                         NaN                             NaN  \n",
       "2                         NaN                             NaN  \n",
       "3                         NaN                             NaN  \n",
       "4                         NaN                             NaN  "
      ]
     },
     "execution_count": 209,
     "metadata": {},
     "output_type": "execute_result"
    }
   ],
   "source": [
    "data[:5]"
   ]
  },
  {
   "cell_type": "code",
   "execution_count": 210,
   "metadata": {},
   "outputs": [
    {
     "data": {
      "image/png": "[encoded data removed]",
      "text/plain": [
       "<Figure size 432x288 with 1 Axes>"
      ]
     },
     "metadata": {},
     "output_type": "display_data"
    }
   ],
   "source": [
    "fig = plt.figure()\n",
    "times = pd.to_datetime(data['Date Time, GMT-04:00'], format='%m/%d/%y %I:%M:%S %p')\n",
    "light = ~data['Light (LGR S/N: 10991767, SEN S/N: 10991767)'].isnull()\n",
    "occupancy = ~data['Occupancy (LGR S/N: 10991767, SEN S/N: 10991767)'].isnull()\n",
    "plt.plot(\n",
    "    times[light],\n",
    "    data['Light (LGR S/N: 10991767, SEN S/N: 10991767)'][light],\n",
    "    drawstyle='steps-post'  # https://stackoverflow.com/questions/35579480/how-to-plot-square-function-with-matplotlib#35579598\n",
    ")\n",
    "plt.plot(\n",
    "    times[occupancy],\n",
    "    data['Occupancy (LGR S/N: 10991767, SEN S/N: 10991767)'][occupancy],\n",
    "    drawstyle='steps-post'\n",
    ")\n",
    "plt.title('Occupancy sensor test')\n",
    "plt.yticks([0,1],['no','yes'])\n",
    "# plt.ylabel('Value')\n",
    "plt.xlabel('Time')\n",
    "plt.legend(['light','occupancy'])\n",
    "fig.autofmt_xdate()  # https://stackoverflow.com/questions/10998621/rotate-axis-text-in-python-matplotlib#23009503\n",
    "fig.patch.set_facecolor('white')  # needed for dark theme https://stackoverflow.com/questions/14088687/how-to-change-plot-background-color\n",
    "# plt.show()"
   ]
  },
  {
   "cell_type": "code",
   "execution_count": 211,
   "metadata": {},
   "outputs": [],
   "source": [
    "filepath = 'data/raw/motion-light data/ac206_2018-11-27.csv'"
   ]
  },
  {
   "cell_type": "code",
   "execution_count": 212,
   "metadata": {},
   "outputs": [],
   "source": [
    "import os\n",
    "import re\n",
    "def strip_header_serial(fp):\n",
    "    filename, ext = os.path.splitext(fp)\n",
    "    new_filepath = filename+'_fixed'+ext\n",
    "    HEADER_PATTERN = re.compile(r'\"([^\"()]+)( \\([\\w \\d/:,]+\\))?\"')\n",
    "    with open(fp) as infile:\n",
    "        with open(new_filepath, 'w') as outfile:\n",
    "            infile.readline()  # skip first line\n",
    "            headers = HEADER_PATTERN.findall(infile.readline())\n",
    "            headers = ['\"'+h[0]+'\"' for h in headers]  # remove serial number mentions\n",
    "            outfile.writelines(','.join(headers) + '\\n' + infile.read())\n",
    "    return new_filepath"
   ]
  },
  {
   "cell_type": "code",
   "execution_count": 213,
   "metadata": {},
   "outputs": [],
   "source": [
    "new_filepath = strip_header_serial(filepath)"
   ]
  },
  {
   "cell_type": "code",
   "execution_count": 214,
   "metadata": {},
   "outputs": [],
   "source": [
    "with open(new_filepath) as file:\n",
    "    data = pd.read_csv(file,header=0)"
   ]
  },
  {
   "cell_type": "code",
   "execution_count": 215,
   "metadata": {},
   "outputs": [],
   "source": [
    "import pytz\n",
    "data.index = pd.to_datetime(data['Date Time, GMT-04:00'], format='%m/%d/%y %I:%M:%S %p')\n",
    "data.index = data.index.tz_localize(pytz.timezone('GMT')).tz_convert(pytz.timezone('US/Eastern'))  # https://stackoverflow.com/questions/22800079/converting-time-zone-pandas-dataframe\n",
    "del data.index.name\n",
    "del data['Date Time, GMT-04:00']"
   ]
  },
  {
   "cell_type": "code",
   "execution_count": 216,
   "metadata": {},
   "outputs": [
    {
     "data": {
      "text/html": [
       "<div>\n",
       "<style scoped>\n",
       "    .dataframe tbody tr th:only-of-type {\n",
       "        vertical-align: middle;\n",
       "    }\n",
       "\n",
       "    .dataframe tbody tr th {\n",
       "        vertical-align: top;\n",
       "    }\n",
       "\n",
       "    .dataframe thead th {\n",
       "        text-align: right;\n",
       "    }\n",
       "</style>\n",
       "<table border=\"1\" class=\"dataframe\">\n",
       "  <thead>\n",
       "    <tr style=\"text-align: right;\">\n",
       "      <th></th>\n",
       "      <th>#</th>\n",
       "      <th>Light</th>\n",
       "      <th>Occupancy</th>\n",
       "      <th>Started</th>\n",
       "      <th>Internal Calibration</th>\n",
       "      <th>Button Up</th>\n",
       "      <th>Host Connected</th>\n",
       "      <th>Stopped</th>\n",
       "      <th>End Of File</th>\n",
       "    </tr>\n",
       "  </thead>\n",
       "  <tbody>\n",
       "    <tr>\n",
       "      <th>2018-10-08 13:57:20-04:00</th>\n",
       "      <td>1</td>\n",
       "      <td>1.0</td>\n",
       "      <td>0.0</td>\n",
       "      <td>Logged</td>\n",
       "      <td>Logged</td>\n",
       "      <td>NaN</td>\n",
       "      <td>NaN</td>\n",
       "      <td>NaN</td>\n",
       "      <td>NaN</td>\n",
       "    </tr>\n",
       "    <tr>\n",
       "      <th>2018-10-08 13:57:21-04:00</th>\n",
       "      <td>2</td>\n",
       "      <td>NaN</td>\n",
       "      <td>NaN</td>\n",
       "      <td>NaN</td>\n",
       "      <td>NaN</td>\n",
       "      <td>Logged</td>\n",
       "      <td>NaN</td>\n",
       "      <td>NaN</td>\n",
       "      <td>NaN</td>\n",
       "    </tr>\n",
       "    <tr>\n",
       "      <th>2018-10-08 13:57:22-04:00</th>\n",
       "      <td>3</td>\n",
       "      <td>NaN</td>\n",
       "      <td>1.0</td>\n",
       "      <td>NaN</td>\n",
       "      <td>NaN</td>\n",
       "      <td>NaN</td>\n",
       "      <td>NaN</td>\n",
       "      <td>NaN</td>\n",
       "      <td>NaN</td>\n",
       "    </tr>\n",
       "  </tbody>\n",
       "</table>\n",
       "</div>"
      ],
      "text/plain": [
       "                           #  Light  Occupancy Started Internal Calibration  \\\n",
       "2018-10-08 13:57:20-04:00  1    1.0        0.0  Logged               Logged   \n",
       "2018-10-08 13:57:21-04:00  2    NaN        NaN     NaN                  NaN   \n",
       "2018-10-08 13:57:22-04:00  3    NaN        1.0     NaN                  NaN   \n",
       "\n",
       "                          Button Up Host Connected Stopped End Of File  \n",
       "2018-10-08 13:57:20-04:00       NaN            NaN     NaN         NaN  \n",
       "2018-10-08 13:57:21-04:00    Logged            NaN     NaN         NaN  \n",
       "2018-10-08 13:57:22-04:00       NaN            NaN     NaN         NaN  "
      ]
     },
     "execution_count": 216,
     "metadata": {},
     "output_type": "execute_result"
    }
   ],
   "source": [
    "data[:3]"
   ]
  },
  {
   "cell_type": "code",
   "execution_count": 217,
   "metadata": {},
   "outputs": [
    {
     "data": {
      "text/plain": [
       "Timestamp('2018-11-27 19:45:01-0500', tz='US/Eastern')"
      ]
     },
     "execution_count": 217,
     "metadata": {},
     "output_type": "execute_result"
    }
   ],
   "source": [
    "max(data.index)"
   ]
  },
  {
   "cell_type": "code",
   "execution_count": 218,
   "metadata": {},
   "outputs": [
    {
     "data": {
      "text/plain": [
       "Timestamp('2018-10-08 13:57:20-0400', tz='US/Eastern')"
      ]
     },
     "execution_count": 218,
     "metadata": {},
     "output_type": "execute_result"
    }
   ],
   "source": [
    "min(data.index)"
   ]
  },
  {
   "cell_type": "code",
   "execution_count": 219,
   "metadata": {},
   "outputs": [
    {
     "data": {
      "text/plain": [
       "0"
      ]
     },
     "execution_count": 219,
     "metadata": {},
     "output_type": "execute_result"
    }
   ],
   "source": [
    "min(data.index).dayofweek"
   ]
  },
  {
   "cell_type": "code",
   "execution_count": 220,
   "metadata": {},
   "outputs": [],
   "source": [
    "light = data[~data['Light'].isnull()].copy()\n",
    "occupancy = data[~data['Occupancy'].isnull()]"
   ]
  },
  {
   "cell_type": "markdown",
   "metadata": {},
   "source": [
    "Let's get the length for each change in light value.\n",
    "\n",
    "First I'll make sure that there aren't any repeated on/off entries"
   ]
  },
  {
   "cell_type": "code",
   "execution_count": 221,
   "metadata": {},
   "outputs": [
    {
     "data": {
      "text/html": [
       "<div>\n",
       "<style scoped>\n",
       "    .dataframe tbody tr th:only-of-type {\n",
       "        vertical-align: middle;\n",
       "    }\n",
       "\n",
       "    .dataframe tbody tr th {\n",
       "        vertical-align: top;\n",
       "    }\n",
       "\n",
       "    .dataframe thead th {\n",
       "        text-align: right;\n",
       "    }\n",
       "</style>\n",
       "<table border=\"1\" class=\"dataframe\">\n",
       "  <thead>\n",
       "    <tr style=\"text-align: right;\">\n",
       "      <th></th>\n",
       "      <th>#</th>\n",
       "      <th>Light</th>\n",
       "      <th>Occupancy</th>\n",
       "      <th>Started</th>\n",
       "      <th>Internal Calibration</th>\n",
       "      <th>Button Up</th>\n",
       "      <th>Host Connected</th>\n",
       "      <th>Stopped</th>\n",
       "      <th>End Of File</th>\n",
       "    </tr>\n",
       "  </thead>\n",
       "  <tbody>\n",
       "    <tr>\n",
       "      <th>2018-10-08 13:57:20-04:00</th>\n",
       "      <td>1</td>\n",
       "      <td>1.0</td>\n",
       "      <td>0.0</td>\n",
       "      <td>Logged</td>\n",
       "      <td>Logged</td>\n",
       "      <td>NaN</td>\n",
       "      <td>NaN</td>\n",
       "      <td>NaN</td>\n",
       "      <td>NaN</td>\n",
       "    </tr>\n",
       "    <tr>\n",
       "      <th>2018-11-27 19:45:01-05:00</th>\n",
       "      <td>4222</td>\n",
       "      <td>1.0</td>\n",
       "      <td>1.0</td>\n",
       "      <td>NaN</td>\n",
       "      <td>NaN</td>\n",
       "      <td>NaN</td>\n",
       "      <td>NaN</td>\n",
       "      <td>Logged</td>\n",
       "      <td>Logged</td>\n",
       "    </tr>\n",
       "  </tbody>\n",
       "</table>\n",
       "</div>"
      ],
      "text/plain": [
       "                              #  Light  Occupancy Started  \\\n",
       "2018-10-08 13:57:20-04:00     1    1.0        0.0  Logged   \n",
       "2018-11-27 19:45:01-05:00  4222    1.0        1.0     NaN   \n",
       "\n",
       "                          Internal Calibration Button Up Host Connected  \\\n",
       "2018-10-08 13:57:20-04:00               Logged       NaN            NaN   \n",
       "2018-11-27 19:45:01-05:00                  NaN       NaN            NaN   \n",
       "\n",
       "                          Stopped End Of File  \n",
       "2018-10-08 13:57:20-04:00     NaN         NaN  \n",
       "2018-11-27 19:45:01-05:00  Logged      Logged  "
      ]
     },
     "execution_count": 221,
     "metadata": {},
     "output_type": "execute_result"
    }
   ],
   "source": [
    "light[abs(light['Light'].diff()) != 1]"
   ]
  },
  {
   "cell_type": "code",
   "execution_count": 222,
   "metadata": {},
   "outputs": [
    {
     "data": {
      "text/html": [
       "<div>\n",
       "<style scoped>\n",
       "    .dataframe tbody tr th:only-of-type {\n",
       "        vertical-align: middle;\n",
       "    }\n",
       "\n",
       "    .dataframe tbody tr th {\n",
       "        vertical-align: top;\n",
       "    }\n",
       "\n",
       "    .dataframe thead th {\n",
       "        text-align: right;\n",
       "    }\n",
       "</style>\n",
       "<table border=\"1\" class=\"dataframe\">\n",
       "  <thead>\n",
       "    <tr style=\"text-align: right;\">\n",
       "      <th></th>\n",
       "      <th>#</th>\n",
       "      <th>Light</th>\n",
       "      <th>Occupancy</th>\n",
       "      <th>Started</th>\n",
       "      <th>Internal Calibration</th>\n",
       "      <th>Button Up</th>\n",
       "      <th>Host Connected</th>\n",
       "      <th>Stopped</th>\n",
       "      <th>End Of File</th>\n",
       "    </tr>\n",
       "  </thead>\n",
       "  <tbody>\n",
       "    <tr>\n",
       "      <th>2018-11-27 19:45:01-05:00</th>\n",
       "      <td>4222</td>\n",
       "      <td>1.0</td>\n",
       "      <td>1.0</td>\n",
       "      <td>NaN</td>\n",
       "      <td>NaN</td>\n",
       "      <td>NaN</td>\n",
       "      <td>NaN</td>\n",
       "      <td>Logged</td>\n",
       "      <td>Logged</td>\n",
       "    </tr>\n",
       "  </tbody>\n",
       "</table>\n",
       "</div>"
      ],
      "text/plain": [
       "                              #  Light  Occupancy Started  \\\n",
       "2018-11-27 19:45:01-05:00  4222    1.0        1.0     NaN   \n",
       "\n",
       "                          Internal Calibration Button Up Host Connected  \\\n",
       "2018-11-27 19:45:01-05:00                  NaN       NaN            NaN   \n",
       "\n",
       "                          Stopped End Of File  \n",
       "2018-11-27 19:45:01-05:00  Logged      Logged  "
      ]
     },
     "execution_count": 222,
     "metadata": {},
     "output_type": "execute_result"
    }
   ],
   "source": [
    "light[-1:]"
   ]
  },
  {
   "cell_type": "markdown",
   "metadata": {},
   "source": [
    "Only the first and last entries don't differ from the previous entry (which is good)."
   ]
  },
  {
   "cell_type": "code",
   "execution_count": 223,
   "metadata": {},
   "outputs": [],
   "source": [
    "light['delta'] = ser_diff = light.index.to_series().diff()  # calculate differences between times"
   ]
  },
  {
   "cell_type": "code",
   "execution_count": 224,
   "metadata": {},
   "outputs": [
    {
     "data": {
      "text/html": [
       "<div>\n",
       "<style scoped>\n",
       "    .dataframe tbody tr th:only-of-type {\n",
       "        vertical-align: middle;\n",
       "    }\n",
       "\n",
       "    .dataframe tbody tr th {\n",
       "        vertical-align: top;\n",
       "    }\n",
       "\n",
       "    .dataframe thead th {\n",
       "        text-align: right;\n",
       "    }\n",
       "</style>\n",
       "<table border=\"1\" class=\"dataframe\">\n",
       "  <thead>\n",
       "    <tr style=\"text-align: right;\">\n",
       "      <th></th>\n",
       "      <th>#</th>\n",
       "      <th>Light</th>\n",
       "      <th>Occupancy</th>\n",
       "      <th>Started</th>\n",
       "      <th>Internal Calibration</th>\n",
       "      <th>Button Up</th>\n",
       "      <th>Host Connected</th>\n",
       "      <th>Stopped</th>\n",
       "      <th>End Of File</th>\n",
       "      <th>delta</th>\n",
       "    </tr>\n",
       "  </thead>\n",
       "  <tbody>\n",
       "    <tr>\n",
       "      <th>2018-10-08 13:57:20-04:00</th>\n",
       "      <td>1</td>\n",
       "      <td>1.0</td>\n",
       "      <td>0.0</td>\n",
       "      <td>Logged</td>\n",
       "      <td>Logged</td>\n",
       "      <td>NaN</td>\n",
       "      <td>NaN</td>\n",
       "      <td>NaN</td>\n",
       "      <td>NaN</td>\n",
       "      <td>NaT</td>\n",
       "    </tr>\n",
       "    <tr>\n",
       "      <th>2018-10-08 13:57:26-04:00</th>\n",
       "      <td>4</td>\n",
       "      <td>0.0</td>\n",
       "      <td>NaN</td>\n",
       "      <td>NaN</td>\n",
       "      <td>NaN</td>\n",
       "      <td>NaN</td>\n",
       "      <td>NaN</td>\n",
       "      <td>NaN</td>\n",
       "      <td>NaN</td>\n",
       "      <td>00:00:06</td>\n",
       "    </tr>\n",
       "    <tr>\n",
       "      <th>2018-10-08 13:57:30-04:00</th>\n",
       "      <td>5</td>\n",
       "      <td>1.0</td>\n",
       "      <td>NaN</td>\n",
       "      <td>NaN</td>\n",
       "      <td>NaN</td>\n",
       "      <td>NaN</td>\n",
       "      <td>NaN</td>\n",
       "      <td>NaN</td>\n",
       "      <td>NaN</td>\n",
       "      <td>00:00:04</td>\n",
       "    </tr>\n",
       "    <tr>\n",
       "      <th>2018-10-08 13:57:34-04:00</th>\n",
       "      <td>6</td>\n",
       "      <td>0.0</td>\n",
       "      <td>NaN</td>\n",
       "      <td>NaN</td>\n",
       "      <td>NaN</td>\n",
       "      <td>NaN</td>\n",
       "      <td>NaN</td>\n",
       "      <td>NaN</td>\n",
       "      <td>NaN</td>\n",
       "      <td>00:00:04</td>\n",
       "    </tr>\n",
       "    <tr>\n",
       "      <th>2018-10-08 13:57:38-04:00</th>\n",
       "      <td>7</td>\n",
       "      <td>1.0</td>\n",
       "      <td>NaN</td>\n",
       "      <td>NaN</td>\n",
       "      <td>NaN</td>\n",
       "      <td>NaN</td>\n",
       "      <td>NaN</td>\n",
       "      <td>NaN</td>\n",
       "      <td>NaN</td>\n",
       "      <td>00:00:04</td>\n",
       "    </tr>\n",
       "    <tr>\n",
       "      <th>2018-10-08 14:10:28-04:00</th>\n",
       "      <td>11</td>\n",
       "      <td>0.0</td>\n",
       "      <td>NaN</td>\n",
       "      <td>NaN</td>\n",
       "      <td>NaN</td>\n",
       "      <td>NaN</td>\n",
       "      <td>NaN</td>\n",
       "      <td>NaN</td>\n",
       "      <td>NaN</td>\n",
       "      <td>00:12:50</td>\n",
       "    </tr>\n",
       "    <tr>\n",
       "      <th>2018-10-08 14:21:32-04:00</th>\n",
       "      <td>13</td>\n",
       "      <td>1.0</td>\n",
       "      <td>NaN</td>\n",
       "      <td>NaN</td>\n",
       "      <td>NaN</td>\n",
       "      <td>NaN</td>\n",
       "      <td>NaN</td>\n",
       "      <td>NaN</td>\n",
       "      <td>NaN</td>\n",
       "      <td>00:11:04</td>\n",
       "    </tr>\n",
       "    <tr>\n",
       "      <th>2018-10-08 18:35:05-04:00</th>\n",
       "      <td>87</td>\n",
       "      <td>0.0</td>\n",
       "      <td>NaN</td>\n",
       "      <td>NaN</td>\n",
       "      <td>NaN</td>\n",
       "      <td>NaN</td>\n",
       "      <td>NaN</td>\n",
       "      <td>NaN</td>\n",
       "      <td>NaN</td>\n",
       "      <td>04:13:33</td>\n",
       "    </tr>\n",
       "    <tr>\n",
       "      <th>2018-10-08 18:35:30-04:00</th>\n",
       "      <td>88</td>\n",
       "      <td>1.0</td>\n",
       "      <td>NaN</td>\n",
       "      <td>NaN</td>\n",
       "      <td>NaN</td>\n",
       "      <td>NaN</td>\n",
       "      <td>NaN</td>\n",
       "      <td>NaN</td>\n",
       "      <td>NaN</td>\n",
       "      <td>00:00:25</td>\n",
       "    </tr>\n",
       "    <tr>\n",
       "      <th>2018-10-08 20:25:28-04:00</th>\n",
       "      <td>124</td>\n",
       "      <td>0.0</td>\n",
       "      <td>NaN</td>\n",
       "      <td>NaN</td>\n",
       "      <td>NaN</td>\n",
       "      <td>NaN</td>\n",
       "      <td>NaN</td>\n",
       "      <td>NaN</td>\n",
       "      <td>NaN</td>\n",
       "      <td>01:49:58</td>\n",
       "    </tr>\n",
       "  </tbody>\n",
       "</table>\n",
       "</div>"
      ],
      "text/plain": [
       "                             #  Light  Occupancy Started Internal Calibration  \\\n",
       "2018-10-08 13:57:20-04:00    1    1.0        0.0  Logged               Logged   \n",
       "2018-10-08 13:57:26-04:00    4    0.0        NaN     NaN                  NaN   \n",
       "2018-10-08 13:57:30-04:00    5    1.0        NaN     NaN                  NaN   \n",
       "2018-10-08 13:57:34-04:00    6    0.0        NaN     NaN                  NaN   \n",
       "2018-10-08 13:57:38-04:00    7    1.0        NaN     NaN                  NaN   \n",
       "2018-10-08 14:10:28-04:00   11    0.0        NaN     NaN                  NaN   \n",
       "2018-10-08 14:21:32-04:00   13    1.0        NaN     NaN                  NaN   \n",
       "2018-10-08 18:35:05-04:00   87    0.0        NaN     NaN                  NaN   \n",
       "2018-10-08 18:35:30-04:00   88    1.0        NaN     NaN                  NaN   \n",
       "2018-10-08 20:25:28-04:00  124    0.0        NaN     NaN                  NaN   \n",
       "\n",
       "                          Button Up Host Connected Stopped End Of File  \\\n",
       "2018-10-08 13:57:20-04:00       NaN            NaN     NaN         NaN   \n",
       "2018-10-08 13:57:26-04:00       NaN            NaN     NaN         NaN   \n",
       "2018-10-08 13:57:30-04:00       NaN            NaN     NaN         NaN   \n",
       "2018-10-08 13:57:34-04:00       NaN            NaN     NaN         NaN   \n",
       "2018-10-08 13:57:38-04:00       NaN            NaN     NaN         NaN   \n",
       "2018-10-08 14:10:28-04:00       NaN            NaN     NaN         NaN   \n",
       "2018-10-08 14:21:32-04:00       NaN            NaN     NaN         NaN   \n",
       "2018-10-08 18:35:05-04:00       NaN            NaN     NaN         NaN   \n",
       "2018-10-08 18:35:30-04:00       NaN            NaN     NaN         NaN   \n",
       "2018-10-08 20:25:28-04:00       NaN            NaN     NaN         NaN   \n",
       "\n",
       "                             delta  \n",
       "2018-10-08 13:57:20-04:00      NaT  \n",
       "2018-10-08 13:57:26-04:00 00:00:06  \n",
       "2018-10-08 13:57:30-04:00 00:00:04  \n",
       "2018-10-08 13:57:34-04:00 00:00:04  \n",
       "2018-10-08 13:57:38-04:00 00:00:04  \n",
       "2018-10-08 14:10:28-04:00 00:12:50  \n",
       "2018-10-08 14:21:32-04:00 00:11:04  \n",
       "2018-10-08 18:35:05-04:00 04:13:33  \n",
       "2018-10-08 18:35:30-04:00 00:00:25  \n",
       "2018-10-08 20:25:28-04:00 01:49:58  "
      ]
     },
     "execution_count": 224,
     "metadata": {},
     "output_type": "execute_result"
    }
   ],
   "source": [
    "light[:10]"
   ]
  },
  {
   "cell_type": "code",
   "execution_count": 225,
   "metadata": {},
   "outputs": [],
   "source": [
    "light['weekday'] = light.index.dayofweek"
   ]
  },
  {
   "cell_type": "code",
   "execution_count": 226,
   "metadata": {},
   "outputs": [
    {
     "data": {
      "text/plain": [
       "weekday\n",
       "0   9 days 12:43:24\n",
       "1   6 days 07:16:57\n",
       "2   5 days 18:37:48\n",
       "3   4 days 16:32:49\n",
       "4   6 days 10:48:12\n",
       "5   3 days 02:57:09\n",
       "6   4 days 13:23:56\n",
       "Name: delta, dtype: timedelta64[ns]"
      ]
     },
     "execution_count": 226,
     "metadata": {},
     "output_type": "execute_result"
    }
   ],
   "source": [
    "lights_on = light[light['Light'] > 0].groupby('weekday')['delta'].agg('sum')\n",
    "lights_on"
   ]
  },
  {
   "cell_type": "code",
   "execution_count": 227,
   "metadata": {},
   "outputs": [
    {
     "data": {
      "text/plain": [
       "Text(0.5, 1.0, 'Hours of lights on in AC206 by day of week')"
      ]
     },
     "execution_count": 227,
     "metadata": {},
     "output_type": "execute_result"
    },
    {
     "data": {
      "image/png": "[encoded data removed]",
      "text/plain": [
       "<Figure size 432x288 with 1 Axes>"
      ]
     },
     "metadata": {
      "needs_background": "light"
     },
     "output_type": "display_data"
    }
   ],
   "source": [
    "fig = plt.figure()\n",
    "plt.bar(\n",
    "    lights_on.index,\n",
    "    lights_on / (6*7*np.timedelta64(1, 'h')),\n",
    ")\n",
    "plt.xticks(range(7), ['Mon', 'Tue', 'Wed', 'Thu', 'Fri', 'Sat', 'Sun'])\n",
    "plt.xlabel('Day of Week')\n",
    "plt.ylabel('Hours on')\n",
    "plt.title('Hours of lights on in AC206 by day of week')"
   ]
  }
 ],
 "metadata": {
  "kernelspec": {
   "display_name": "Python 3",
   "language": "python",
   "name": "python3"
  },
  "language_info": {
   "codemirror_mode": {
    "name": "ipython",
    "version": 3
   },
   "file_extension": ".py",
   "mimetype": "text/x-python",
   "name": "python",
   "nbconvert_exporter": "python",
   "pygments_lexer": "ipython3",
   "version": "3.7.0"
  }
 },
 "nbformat": 4,
 "nbformat_minor": 2
}
