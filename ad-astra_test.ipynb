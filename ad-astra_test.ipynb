{
 "cells": [
  {
   "cell_type": "markdown",
   "metadata": {
    "toc-hr-collapsed": false
   },
   "source": [
    "# Ad-Astra data\n",
    "\n",
    "This notebook looks at the exports from Ad-Astra that we have access to. Each export includes all of the course (and non-course) scheduling of a semester.\n",
    "Here I'm working with the data from the 2017 Fall semester.\n",
    "\n",
    "## What is a \"course\"?\n",
    "How do we represent a course at Olin?  \n",
    "I've tried to list all of the \"definable\" dimensions that I could think of:\n",
    "- a title  \n",
    "  _e.g._ \"Modeling and Simulation of the Physical World\")\n",
    "- an abbreviation of some sort  \n",
    "  _e.g._ \"ModSim\"  \n",
    "  This doesn't live in any database somewhere as far as I know, but it exists\n",
    "  in most students' (and, I would imagine most community members') minds.\n",
    "- professor(s)  \n",
    "  A single one seems to be listed in the scheduling, but several often teach a course/section.\n",
    "- NINJA(s)  \n",
    "  Not represented anywhere that I know of, besides old pay stubs.\n",
    "- students  \n",
    "  This number can change throughout the semester, but will only decline after the\n",
    "  Add period ends.\n",
    "- room(s)\n",
    "- credits\n",
    "- classtimes\n",
    "- expected hours in class/working with others/studying  \n",
    "  I've seen this listed for _some_ courses in the course catalog\n",
    "- course code(s)  \n",
    "  Some courses have split credits, which are represented by multiple course codes.  \n",
    "  ModSim, for example, is a 4-credit class split into 2 Math credits and 2 Science credits;\n",
    "  it is represented as `MTH1111` and `SCI1111`.\n",
    "- sections  \n",
    "  Courses are often split up into multiple sections.  \n",
    "  These **can** have:\n",
    "  - different rooms\n",
    "  - different times\n",
    "  - different professors\n",
    "  \n",
    "  Generally they represent separate groups of students, but in some cases\n",
    "  (mostly lab courses it seems) they can overlap with others (Everyone will have\n",
    "  the main course as a single section, and then half will be in one lab\n",
    "  section and half in another).  \n",
    "  ModSim, as a first-year course, generally has\n",
    "  3 sections across 3 classrooms (with 2 professors each in my year)."
   ]
  },
  {
   "cell_type": "code",
   "execution_count": null,
   "metadata": {},
   "outputs": [],
   "source": [
    "import matplotlib.pyplot as plt\n",
    "import pandas as pd\n",
    "import numpy as np"
   ]
  },
  {
   "cell_type": "markdown",
   "metadata": {},
   "source": [
    "## Formatting Course Data"
   ]
  },
  {
   "cell_type": "code",
   "execution_count": null,
   "metadata": {},
   "outputs": [],
   "source": [
    "fa17all = pd.read_excel('data/ad astra test fa17.xls')  # load from file\n",
    "# convert time/date columns to time.date types\n",
    "time_cols = ['Start Time', 'End Time']\n",
    "time_pattern = '%I:%M %p'\n",
    "for col in time_cols:\n",
    "    # This is a bit of a beast. Ideally this would be a pd.datetime.time object,\n",
    "    # but that doesn't seem to be well supported by other pandas operations.\n",
    "    # Next best is a pd.timedelta, which could take the original string directly,\n",
    "    # but doesn't like AM/PM (see https://github.com/pandas-dev/pandas/issues/18793).\n",
    "    # What I settled on is to convert to datetime and subtract off the days\n",
    "#     fa17all[col] = pd.to_timedelta(pd.to_datetime(fa17all[col], format=time_pattern).dt.strftime('%H:%M:%S'))\n",
    "    fa17all[col] = pd.to_datetime(fa17all[col], format=time_pattern)\n",
    "    fa17all[col] = fa17all[col] - pd.to_datetime(fa17all[col].dt.date)\n",
    "\n",
    "date_cols = ['Start Date', 'End Date']\n",
    "date_pattern = '%m/%d/%Y'\n",
    "for col in date_cols:\n",
    "    fa17all[col] = pd.to_datetime(fa17all[col], format=date_pattern)\n",
    "# calculate times\n",
    "# fa17all['length'] = pd.to_timedelta(fa17all['End Time']) - pd.to_timedelta(fa17all['Start Time']),\n",
    "fa17all[::]"
   ]
  },
  {
   "cell_type": "code",
   "execution_count": null,
   "metadata": {},
   "outputs": [],
   "source": [
    "# calculate lengths of coursetime\n",
    "fa17all['Length'] = fa17all['End Time'] - fa17all['Start Time']\n",
    "fa17all['Weekly Length'] = fa17all['Length'] * fa17all['Days'].str.len()  # total time per week"
   ]
  },
  {
   "cell_type": "code",
   "execution_count": null,
   "metadata": {},
   "outputs": [],
   "source": [
    "# select only course scheduling\n",
    "# could use a regex, but all others are \"Olin College Students/Staff/Faculty\")\n",
    "fa17courses = fa17all[~fa17all['Course/Customer'].str.startswith('Olin College')]\n",
    "fa17courses[::]"
   ]
  },
  {
   "cell_type": "markdown",
   "metadata": {},
   "source": [
    "## Plotting/Merging"
   ]
  },
  {
   "cell_type": "code",
   "execution_count": null,
   "metadata": {},
   "outputs": [],
   "source": [
    "# plot courses by spacetime footprint\n",
    "coursefootprint = fa17courses.groupby('Course/Customer', as_index=False)['Weekly Length'].agg(np.sum).sort_index(ascending=True)  # group, sum, and sort\n",
    "# coursefootprint['Course/Customer'] = coursefootprint['Course/Customer'] / np.timedelta64(1,'h')  # convert to hours\n",
    "# coursefootprint = coursefootprint.to_frame()\n",
    "# coursefootprint.expanding"
   ]
  },
  {
   "cell_type": "code",
   "execution_count": null,
   "metadata": {},
   "outputs": [],
   "source": [
    "# merge with categorization data\n",
    "categorization = pd.read_csv(\n",
    "    'Class and Room Categorization - Classes Fall 2017.csv',  # just a csv export from the doc (could use Google Sheets csv publishing)\n",
    "    usecols=range(13)\n",
    ")\n",
    "categorization.drop_duplicates(subset='Course Code', inplace=True)  # drop duplicate listings by course code"
   ]
  },
  {
   "cell_type": "code",
   "execution_count": null,
   "metadata": {},
   "outputs": [],
   "source": [
    "merged = pd.merge(\n",
    "    left=coursefootprint,\n",
    "    right=categorization[['Course Code','Course Title','Primary Category','Seconday Category']],  # yes, \"Seconday\"\n",
    "    how='left',\n",
    "    left_on='Course/Customer',\n",
    "    right_on='Course Code',\n",
    "    indicator=True,\n",
    "    validate='one_to_many'\n",
    ")\n",
    "# merged.drop_duplicates(inplace=True)  #.groupby('Course Code', as_index=False)['Weekly Length'].agg(np.sum)\n",
    "merged[:3]"
   ]
  },
  {
   "cell_type": "code",
   "execution_count": null,
   "metadata": {},
   "outputs": [],
   "source": [
    "category_colors = {  # map for category colors\n",
    "    'PROJECT - BASED - 3d': '#1155cc',\n",
    "    'PROJECT - BASED - 2d': '#3c78d8',\n",
    "    'PROJECT - BASED - digital': '#6d9eeb',\n",
    "    'LECTURE': '#e69138',\n",
    "    'LAB': '#38761d',\n",
    "    'NOT IN AC': '#cc0000',\n",
    "    'DISCUSSION': '#674ea7'\n",
    "}"
   ]
  },
  {
   "cell_type": "markdown",
   "metadata": {},
   "source": [
    "### Pie Chart"
   ]
  },
  {
   "cell_type": "code",
   "execution_count": null,
   "metadata": {},
   "outputs": [],
   "source": [
    "fa17category = merged.groupby('Primary Category', as_index=False)['Weekly Length'].agg(np.sum)\n",
    "fig = plt.figure()\n",
    "plt.pie(\n",
    "    fa17category['Weekly Length'] / pd.Timedelta(1, unit='h'),\n",
    "    labels=fa17category['Primary Category'],\n",
    "    colors=[category_colors.get(category, 'grey') for category in fa17category['Primary Category']]\n",
    ")\n",
    "# plt.legend(fa17category['Primary Category'])\n",
    "plt.title('FA2017 course categories by weekly space-time')\n",
    "plt.axis('equal')\n",
    "fig.patch.set_facecolor('white')"
   ]
  },
  {
   "cell_type": "markdown",
   "metadata": {},
   "source": [
    "### Bar Chart"
   ]
  },
  {
   "cell_type": "code",
   "execution_count": null,
   "metadata": {},
   "outputs": [],
   "source": [
    "# parse out course title\n",
    "import re\n",
    "extractor = re.compile('^(?:(\\w{3,4}\\d{0,5}\\w?)[:|/] )?(.*)$')\n",
    "titles = [extractor.match(a).group(2) for a in merged['Course Title'].astype(str)]\n",
    "# trim length of strings\n",
    "max_len = 45\n",
    "abbr_titles=[a[:max_len-3]+'...' if len(a) > max_len else a for a in titles]"
   ]
  },
  {
   "cell_type": "code",
   "execution_count": null,
   "metadata": {},
   "outputs": [],
   "source": [
    "fig = plt.figure(figsize=(5,20))\n",
    "bars = plt.barh(\n",
    "#     tick_label=merged['Course Title'],\n",
    "    tick_label=abbr_titles,\n",
    "    y=np.arange(len(merged)),\n",
    "    height=0.5,\n",
    "    width=merged['Weekly Length'] / pd.Timedelta(1, unit='h'),\n",
    "    align='center',\n",
    "    color=[category_colors.get(category, 'grey') for category in merged['Primary Category']],  # default to grey if unknown category\n",
    "    zorder=3\n",
    ")\n",
    "\n",
    "# add values to bar chart: https://stackoverflow.com/questions/28931224/adding-value-labels-on-a-matplotlib-bar-chart#28931750\n",
    "rects = bars.patches\n",
    "# For each bar: Place a label\n",
    "for rect in rects:\n",
    "    # Get X and Y placement of label from rect.\n",
    "    x_value = rect.get_width()\n",
    "    y_value = rect.get_y() + rect.get_height() / 2\n",
    "\n",
    "    # Number of points between bar and label. Change to your liking.\n",
    "    space = 5\n",
    "\n",
    "    # Use X value as label and format number with one decimal place\n",
    "    label = \"{:.1f}\".format(x_value)\n",
    "\n",
    "    # Create annotation\n",
    "    plt.annotate(\n",
    "        label,                      # Use `label` as label\n",
    "        (x_value, y_value),         # Place label at end of the bar\n",
    "        xytext=(space, 0),          # Horizontally shift label by `space`\n",
    "        textcoords=\"offset points\", # Interpret `xytext` as offset in points\n",
    "        va='center',                # Vertically center label\n",
    "        ha='left')                      # Horizontally align label differently for\n",
    "                                    # positive and negative values.\n",
    "\n",
    "# plt.xticks(rotation=90)\n",
    "plt.xlim([0, 18])  # extend to fit labels\n",
    "plt.grid(axis='x', linestyle='--', zorder=0)\n",
    "plt.title('FA17 Courses by weekly space-time')\n",
    "fig.patch.set_facecolor('white')"
   ]
  },
  {
   "cell_type": "code",
   "execution_count": null,
   "metadata": {},
   "outputs": [],
   "source": [
    "pd.options.mode.chained_assignment = None\n",
    "\n",
    "# aggregate courses by course code and section\n",
    "fa17courses['Course-Section'] = fa17courses['Course/Customer']+'-'+fa17courses['Section']\n",
    "fa17_rcgroup = fa17courses.groupby(['Room','Title'])\n",
    "fa17_courses_group = fa17courses.groupby(['Course/Customer','Section','Room'])\n",
    "\n",
    "fa17_rc = fa17_courses_group['Weekly Length'].agg(np.sum)  # this returns a MultiIndex type"
   ]
  },
  {
   "cell_type": "code",
   "execution_count": null,
   "metadata": {},
   "outputs": [],
   "source": []
  }
 ],
 "metadata": {
  "kernelspec": {
   "display_name": "Python 3",
   "language": "python",
   "name": "python3"
  },
  "language_info": {
   "codemirror_mode": {
    "name": "ipython",
    "version": 3
   },
   "file_extension": ".py",
   "mimetype": "text/x-python",
   "name": "python",
   "nbconvert_exporter": "python",
   "pygments_lexer": "ipython3",
   "version": "3.7.1"
  },
  "toc-autonumbering": false,
  "toc-showcode": false,
  "toc-showmarkdowntxt": false,
  "toc-showtags": true
 },
 "nbformat": 4,
 "nbformat_minor": 2
}
