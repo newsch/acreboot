{
 "cells": [
  {
   "cell_type": "code",
   "execution_count": 208,
   "metadata": {},
   "outputs": [],
   "source": [
    "import matplotlib.pyplot as plt\n",
    "import matplotlib.dates as mdates\n",
    "import csv\n",
    "import pandas as pd\n",
    "import numpy as np\n",
    "\n",
    "import datetime"
   ]
  },
  {
   "cell_type": "code",
   "execution_count": 2,
   "metadata": {},
   "outputs": [],
   "source": [
    "%load_ext autoreload\n",
    "%autoreload 1\n",
    "%aimport hobo"
   ]
  },
  {
   "cell_type": "code",
   "execution_count": 5,
   "metadata": {},
   "outputs": [],
   "source": [
    "ac206 = hobo.process_data('data/raw/motion-light data/ac206_2018-11-27_fixed.csv')"
   ]
  },
  {
   "cell_type": "code",
   "execution_count": 6,
   "metadata": {},
   "outputs": [
    {
     "data": {
      "text/html": [
       "<div>\n",
       "<style scoped>\n",
       "    .dataframe tbody tr th:only-of-type {\n",
       "        vertical-align: middle;\n",
       "    }\n",
       "\n",
       "    .dataframe tbody tr th {\n",
       "        vertical-align: top;\n",
       "    }\n",
       "\n",
       "    .dataframe thead th {\n",
       "        text-align: right;\n",
       "    }\n",
       "</style>\n",
       "<table border=\"1\" class=\"dataframe\">\n",
       "  <thead>\n",
       "    <tr style=\"text-align: right;\">\n",
       "      <th></th>\n",
       "      <th>#</th>\n",
       "      <th>Light</th>\n",
       "      <th>Occupancy</th>\n",
       "      <th>Started</th>\n",
       "      <th>Internal Calibration</th>\n",
       "      <th>Button Up</th>\n",
       "      <th>Host Connected</th>\n",
       "      <th>Stopped</th>\n",
       "      <th>End Of File</th>\n",
       "      <th>dayofweek</th>\n",
       "    </tr>\n",
       "  </thead>\n",
       "  <tbody>\n",
       "    <tr>\n",
       "      <th>2018-10-08 13:57:20-04:00</th>\n",
       "      <td>1</td>\n",
       "      <td>1.0</td>\n",
       "      <td>0.0</td>\n",
       "      <td>Logged</td>\n",
       "      <td>Logged</td>\n",
       "      <td>NaN</td>\n",
       "      <td>NaN</td>\n",
       "      <td>NaN</td>\n",
       "      <td>NaN</td>\n",
       "      <td>0</td>\n",
       "    </tr>\n",
       "    <tr>\n",
       "      <th>2018-10-08 13:57:21-04:00</th>\n",
       "      <td>2</td>\n",
       "      <td>NaN</td>\n",
       "      <td>NaN</td>\n",
       "      <td>NaN</td>\n",
       "      <td>NaN</td>\n",
       "      <td>Logged</td>\n",
       "      <td>NaN</td>\n",
       "      <td>NaN</td>\n",
       "      <td>NaN</td>\n",
       "      <td>0</td>\n",
       "    </tr>\n",
       "    <tr>\n",
       "      <th>2018-10-08 13:57:22-04:00</th>\n",
       "      <td>3</td>\n",
       "      <td>NaN</td>\n",
       "      <td>1.0</td>\n",
       "      <td>NaN</td>\n",
       "      <td>NaN</td>\n",
       "      <td>NaN</td>\n",
       "      <td>NaN</td>\n",
       "      <td>NaN</td>\n",
       "      <td>NaN</td>\n",
       "      <td>0</td>\n",
       "    </tr>\n",
       "  </tbody>\n",
       "</table>\n",
       "</div>"
      ],
      "text/plain": [
       "                           #  Light  Occupancy Started Internal Calibration  \\\n",
       "2018-10-08 13:57:20-04:00  1    1.0        0.0  Logged               Logged   \n",
       "2018-10-08 13:57:21-04:00  2    NaN        NaN     NaN                  NaN   \n",
       "2018-10-08 13:57:22-04:00  3    NaN        1.0     NaN                  NaN   \n",
       "\n",
       "                          Button Up Host Connected Stopped End Of File  \\\n",
       "2018-10-08 13:57:20-04:00       NaN            NaN     NaN         NaN   \n",
       "2018-10-08 13:57:21-04:00    Logged            NaN     NaN         NaN   \n",
       "2018-10-08 13:57:22-04:00       NaN            NaN     NaN         NaN   \n",
       "\n",
       "                           dayofweek  \n",
       "2018-10-08 13:57:20-04:00          0  \n",
       "2018-10-08 13:57:21-04:00          0  \n",
       "2018-10-08 13:57:22-04:00          0  "
      ]
     },
     "execution_count": 6,
     "metadata": {},
     "output_type": "execute_result"
    }
   ],
   "source": [
    "ac206[:3]"
   ]
  },
  {
   "cell_type": "code",
   "execution_count": 64,
   "metadata": {},
   "outputs": [],
   "source": [
    "occupancy = hobo.convert_to_length(ac206, 'Occupancy')"
   ]
  },
  {
   "cell_type": "code",
   "execution_count": 9,
   "metadata": {},
   "outputs": [
    {
     "data": {
      "text/html": [
       "<div>\n",
       "<style scoped>\n",
       "    .dataframe tbody tr th:only-of-type {\n",
       "        vertical-align: middle;\n",
       "    }\n",
       "\n",
       "    .dataframe tbody tr th {\n",
       "        vertical-align: top;\n",
       "    }\n",
       "\n",
       "    .dataframe thead th {\n",
       "        text-align: right;\n",
       "    }\n",
       "</style>\n",
       "<table border=\"1\" class=\"dataframe\">\n",
       "  <thead>\n",
       "    <tr style=\"text-align: right;\">\n",
       "      <th></th>\n",
       "      <th>#</th>\n",
       "      <th>Light</th>\n",
       "      <th>Occupancy</th>\n",
       "      <th>Started</th>\n",
       "      <th>Internal Calibration</th>\n",
       "      <th>Button Up</th>\n",
       "      <th>Host Connected</th>\n",
       "      <th>Stopped</th>\n",
       "      <th>End Of File</th>\n",
       "      <th>dayofweek</th>\n",
       "      <th>delta</th>\n",
       "    </tr>\n",
       "  </thead>\n",
       "  <tbody>\n",
       "    <tr>\n",
       "      <th>2018-10-08 13:57:20-04:00</th>\n",
       "      <td>1</td>\n",
       "      <td>1.0</td>\n",
       "      <td>0.0</td>\n",
       "      <td>Logged</td>\n",
       "      <td>Logged</td>\n",
       "      <td>NaN</td>\n",
       "      <td>NaN</td>\n",
       "      <td>NaN</td>\n",
       "      <td>NaN</td>\n",
       "      <td>0</td>\n",
       "      <td>NaT</td>\n",
       "    </tr>\n",
       "    <tr>\n",
       "      <th>2018-10-08 13:57:22-04:00</th>\n",
       "      <td>3</td>\n",
       "      <td>NaN</td>\n",
       "      <td>1.0</td>\n",
       "      <td>NaN</td>\n",
       "      <td>NaN</td>\n",
       "      <td>NaN</td>\n",
       "      <td>NaN</td>\n",
       "      <td>NaN</td>\n",
       "      <td>NaN</td>\n",
       "      <td>0</td>\n",
       "      <td>00:00:02</td>\n",
       "    </tr>\n",
       "    <tr>\n",
       "      <th>2018-10-08 13:59:33-04:00</th>\n",
       "      <td>8</td>\n",
       "      <td>NaN</td>\n",
       "      <td>0.0</td>\n",
       "      <td>NaN</td>\n",
       "      <td>NaN</td>\n",
       "      <td>NaN</td>\n",
       "      <td>NaN</td>\n",
       "      <td>NaN</td>\n",
       "      <td>NaN</td>\n",
       "      <td>0</td>\n",
       "      <td>00:02:11</td>\n",
       "    </tr>\n",
       "  </tbody>\n",
       "</table>\n",
       "</div>"
      ],
      "text/plain": [
       "                           #  Light  Occupancy Started Internal Calibration  \\\n",
       "2018-10-08 13:57:20-04:00  1    1.0        0.0  Logged               Logged   \n",
       "2018-10-08 13:57:22-04:00  3    NaN        1.0     NaN                  NaN   \n",
       "2018-10-08 13:59:33-04:00  8    NaN        0.0     NaN                  NaN   \n",
       "\n",
       "                          Button Up Host Connected Stopped End Of File  \\\n",
       "2018-10-08 13:57:20-04:00       NaN            NaN     NaN         NaN   \n",
       "2018-10-08 13:57:22-04:00       NaN            NaN     NaN         NaN   \n",
       "2018-10-08 13:59:33-04:00       NaN            NaN     NaN         NaN   \n",
       "\n",
       "                           dayofweek    delta  \n",
       "2018-10-08 13:57:20-04:00          0      NaT  \n",
       "2018-10-08 13:57:22-04:00          0 00:00:02  \n",
       "2018-10-08 13:59:33-04:00          0 00:02:11  "
      ]
     },
     "execution_count": 9,
     "metadata": {},
     "output_type": "execute_result"
    }
   ],
   "source": [
    "occupancy[:3]"
   ]
  },
  {
   "cell_type": "code",
   "execution_count": 11,
   "metadata": {},
   "outputs": [],
   "source": [
    "occ_by_day = hobo.agg_week(occupancy, 'Occupancy')"
   ]
  },
  {
   "cell_type": "code",
   "execution_count": 13,
   "metadata": {},
   "outputs": [
    {
     "data": {
      "text/plain": [
       "dayofweek\n",
       "0   8 days 07:15:35\n",
       "1   6 days 22:09:59\n",
       "2   6 days 05:48:33\n",
       "3   5 days 02:29:35\n",
       "4   6 days 21:28:06\n",
       "5   4 days 05:39:23\n",
       "6   6 days 00:15:03\n",
       "Name: delta, dtype: timedelta64[ns]"
      ]
     },
     "execution_count": 13,
     "metadata": {},
     "output_type": "execute_result"
    }
   ],
   "source": [
    "occ_by_day"
   ]
  },
  {
   "cell_type": "code",
   "execution_count": 15,
   "metadata": {},
   "outputs": [
    {
     "data": {
      "text/plain": [
       "Text(0.5, 1.0, 'Avg hours of occupancy in AC206 by day of week')"
      ]
     },
     "execution_count": 15,
     "metadata": {},
     "output_type": "execute_result"
    },
    {
     "data": {
      "image/png": "[encoded data removed]",
      "text/plain": [
       "<Figure size 432x288 with 1 Axes>"
      ]
     },
     "metadata": {
      "needs_background": "light"
     },
     "output_type": "display_data"
    }
   ],
   "source": [
    "fig = plt.figure()\n",
    "plt.bar(\n",
    "    occ_by_day.index,\n",
    "    occ_by_day / (6*7*np.timedelta64(1, 'h')),\n",
    ")\n",
    "plt.xticks(range(7), ['Mon', 'Tue', 'Wed', 'Thu', 'Fri', 'Sat', 'Sun'])\n",
    "plt.xlabel('Day of Week')\n",
    "plt.ylabel('Hours on')\n",
    "plt.title('Avg hours of occupancy in AC206 by day of week')"
   ]
  },
  {
   "cell_type": "markdown",
   "metadata": {},
   "source": [
    "For a more accurate average, we could normalize by:\n",
    "- total number of weeks in the dataset\n",
    "- total number of days in the dataset for each day of the week\n",
    "- total number of hours in the dataset\n",
    "- total number of hours in the dataset for each day of the week"
   ]
  },
  {
   "cell_type": "markdown",
   "metadata": {},
   "source": [
    "### Total number of days"
   ]
  },
  {
   "cell_type": "code",
   "execution_count": 41,
   "metadata": {},
   "outputs": [
    {
     "data": {
      "text/plain": [
       "Timedelta('50 days 06:47:41')"
      ]
     },
     "execution_count": 41,
     "metadata": {},
     "output_type": "execute_result"
    }
   ],
   "source": [
    "total_time = (ac206[-1:].index - ac206[:1].index)[0]\n",
    "total_time"
   ]
  },
  {
   "cell_type": "code",
   "execution_count": 43,
   "metadata": {},
   "outputs": [
    {
     "data": {
      "text/plain": [
       "1206.7947222222222"
      ]
     },
     "execution_count": 43,
     "metadata": {},
     "output_type": "execute_result"
    }
   ],
   "source": [
    "total_hours = total_time / pd.Timedelta(1, 'h')\n",
    "total_hours"
   ]
  },
  {
   "cell_type": "code",
   "execution_count": 46,
   "metadata": {},
   "outputs": [
    {
     "data": {
      "text/plain": [
       "50.283113425925926"
      ]
     },
     "execution_count": 46,
     "metadata": {},
     "output_type": "execute_result"
    }
   ],
   "source": [
    "total_days = total_time / pd.Timedelta(1, 'd')\n",
    "total_days"
   ]
  },
  {
   "cell_type": "code",
   "execution_count": 52,
   "metadata": {},
   "outputs": [
    {
     "data": {
      "text/plain": [
       "dayofweek\n",
       "0   8 days 07:15:35\n",
       "1   6 days 22:09:59\n",
       "2   6 days 05:48:33\n",
       "3   5 days 02:29:35\n",
       "4   6 days 21:28:06\n",
       "5   4 days 05:39:23\n",
       "6   6 days 00:15:03\n",
       "Name: delta, dtype: timedelta64[ns]"
      ]
     },
     "execution_count": 52,
     "metadata": {},
     "output_type": "execute_result"
    }
   ],
   "source": [
    "occ_by_day  # total sums"
   ]
  },
  {
   "cell_type": "code",
   "execution_count": 39,
   "metadata": {},
   "outputs": [
    {
     "data": {
      "text/plain": [
       "dayofweek\n",
       "0    4.744279\n",
       "1    3.956343\n",
       "2    3.566885\n",
       "3    2.916501\n",
       "4    3.939722\n",
       "5    2.420390\n",
       "6    3.434544\n",
       "Name: delta, dtype: float64"
      ]
     },
     "execution_count": 39,
     "metadata": {},
     "output_type": "execute_result"
    }
   ],
   "source": [
    "occ_by_day / (6*7*np.timedelta64(1, 'h'))  # previous estimate"
   ]
  },
  {
   "cell_type": "code",
   "execution_count": 55,
   "metadata": {},
   "outputs": [
    {
     "data": {
      "text/plain": [
       "dayofweek\n",
       "0    28.465675\n",
       "1    23.738056\n",
       "2    21.401310\n",
       "3    17.499008\n",
       "4    23.638333\n",
       "5    14.522341\n",
       "6    20.607262\n",
       "Name: delta, dtype: float64"
      ]
     },
     "execution_count": 55,
     "metadata": {},
     "output_type": "execute_result"
    }
   ],
   "source": [
    "occ_by_day / ((total_days / 7) * np.timedelta64(1, 'h'))"
   ]
  },
  {
   "cell_type": "markdown",
   "metadata": {},
   "source": [
    "28 hours per day? I think we'll have to calculate total time measured per day of week."
   ]
  },
  {
   "cell_type": "code",
   "execution_count": 58,
   "metadata": {},
   "outputs": [
    {
     "data": {
      "text/html": [
       "<div>\n",
       "<style scoped>\n",
       "    .dataframe tbody tr th:only-of-type {\n",
       "        vertical-align: middle;\n",
       "    }\n",
       "\n",
       "    .dataframe tbody tr th {\n",
       "        vertical-align: top;\n",
       "    }\n",
       "\n",
       "    .dataframe thead th {\n",
       "        text-align: right;\n",
       "    }\n",
       "</style>\n",
       "<table border=\"1\" class=\"dataframe\">\n",
       "  <thead>\n",
       "    <tr style=\"text-align: right;\">\n",
       "      <th></th>\n",
       "      <th>#</th>\n",
       "      <th>Light</th>\n",
       "      <th>Occupancy</th>\n",
       "      <th>Started</th>\n",
       "      <th>Internal Calibration</th>\n",
       "      <th>Button Up</th>\n",
       "      <th>Host Connected</th>\n",
       "      <th>Stopped</th>\n",
       "      <th>End Of File</th>\n",
       "      <th>dayofweek</th>\n",
       "      <th>date</th>\n",
       "    </tr>\n",
       "  </thead>\n",
       "  <tbody>\n",
       "    <tr>\n",
       "      <th>2018-10-08 13:57:20-04:00</th>\n",
       "      <td>1</td>\n",
       "      <td>1.0</td>\n",
       "      <td>0.0</td>\n",
       "      <td>Logged</td>\n",
       "      <td>Logged</td>\n",
       "      <td>NaN</td>\n",
       "      <td>NaN</td>\n",
       "      <td>NaN</td>\n",
       "      <td>NaN</td>\n",
       "      <td>0</td>\n",
       "      <td>2018-10-08 00:00:00-04:00</td>\n",
       "    </tr>\n",
       "    <tr>\n",
       "      <th>2018-10-08 13:57:21-04:00</th>\n",
       "      <td>2</td>\n",
       "      <td>NaN</td>\n",
       "      <td>NaN</td>\n",
       "      <td>NaN</td>\n",
       "      <td>NaN</td>\n",
       "      <td>Logged</td>\n",
       "      <td>NaN</td>\n",
       "      <td>NaN</td>\n",
       "      <td>NaN</td>\n",
       "      <td>0</td>\n",
       "      <td>2018-10-08 00:00:00-04:00</td>\n",
       "    </tr>\n",
       "    <tr>\n",
       "      <th>2018-10-08 13:57:22-04:00</th>\n",
       "      <td>3</td>\n",
       "      <td>NaN</td>\n",
       "      <td>1.0</td>\n",
       "      <td>NaN</td>\n",
       "      <td>NaN</td>\n",
       "      <td>NaN</td>\n",
       "      <td>NaN</td>\n",
       "      <td>NaN</td>\n",
       "      <td>NaN</td>\n",
       "      <td>0</td>\n",
       "      <td>2018-10-08 00:00:00-04:00</td>\n",
       "    </tr>\n",
       "  </tbody>\n",
       "</table>\n",
       "</div>"
      ],
      "text/plain": [
       "                           #  Light  Occupancy Started Internal Calibration  \\\n",
       "2018-10-08 13:57:20-04:00  1    1.0        0.0  Logged               Logged   \n",
       "2018-10-08 13:57:21-04:00  2    NaN        NaN     NaN                  NaN   \n",
       "2018-10-08 13:57:22-04:00  3    NaN        1.0     NaN                  NaN   \n",
       "\n",
       "                          Button Up Host Connected Stopped End Of File  \\\n",
       "2018-10-08 13:57:20-04:00       NaN            NaN     NaN         NaN   \n",
       "2018-10-08 13:57:21-04:00    Logged            NaN     NaN         NaN   \n",
       "2018-10-08 13:57:22-04:00       NaN            NaN     NaN         NaN   \n",
       "\n",
       "                           dayofweek                      date  \n",
       "2018-10-08 13:57:20-04:00          0 2018-10-08 00:00:00-04:00  \n",
       "2018-10-08 13:57:21-04:00          0 2018-10-08 00:00:00-04:00  \n",
       "2018-10-08 13:57:22-04:00          0 2018-10-08 00:00:00-04:00  "
      ]
     },
     "execution_count": 58,
     "metadata": {},
     "output_type": "execute_result"
    }
   ],
   "source": [
    "ac206['date'] = ac206.index.normalize()\n",
    "ac206[:3]"
   ]
  },
  {
   "cell_type": "code",
   "execution_count": 60,
   "metadata": {},
   "outputs": [
    {
     "data": {
      "text/html": [
       "<div>\n",
       "<style scoped>\n",
       "    .dataframe tbody tr th:only-of-type {\n",
       "        vertical-align: middle;\n",
       "    }\n",
       "\n",
       "    .dataframe tbody tr th {\n",
       "        vertical-align: top;\n",
       "    }\n",
       "\n",
       "    .dataframe thead tr th {\n",
       "        text-align: left;\n",
       "    }\n",
       "\n",
       "    .dataframe thead tr:last-of-type th {\n",
       "        text-align: right;\n",
       "    }\n",
       "</style>\n",
       "<table border=\"1\" class=\"dataframe\">\n",
       "  <thead>\n",
       "    <tr>\n",
       "      <th></th>\n",
       "      <th colspan=\"2\" halign=\"left\">#</th>\n",
       "      <th colspan=\"2\" halign=\"left\">Light</th>\n",
       "      <th colspan=\"2\" halign=\"left\">Occupancy</th>\n",
       "      <th colspan=\"2\" halign=\"left\">date</th>\n",
       "    </tr>\n",
       "    <tr>\n",
       "      <th></th>\n",
       "      <th>min</th>\n",
       "      <th>max</th>\n",
       "      <th>min</th>\n",
       "      <th>max</th>\n",
       "      <th>min</th>\n",
       "      <th>max</th>\n",
       "      <th>min</th>\n",
       "      <th>max</th>\n",
       "    </tr>\n",
       "    <tr>\n",
       "      <th>dayofweek</th>\n",
       "      <th></th>\n",
       "      <th></th>\n",
       "      <th></th>\n",
       "      <th></th>\n",
       "      <th></th>\n",
       "      <th></th>\n",
       "      <th></th>\n",
       "      <th></th>\n",
       "    </tr>\n",
       "  </thead>\n",
       "  <tbody>\n",
       "    <tr>\n",
       "      <th>0</th>\n",
       "      <td>1</td>\n",
       "      <td>4104</td>\n",
       "      <td>0.0</td>\n",
       "      <td>1.0</td>\n",
       "      <td>0.0</td>\n",
       "      <td>1.0</td>\n",
       "      <td>2018-10-08 00:00:00-04:00</td>\n",
       "      <td>2018-11-26 00:00:00-05:00</td>\n",
       "    </tr>\n",
       "    <tr>\n",
       "      <th>1</th>\n",
       "      <td>132</td>\n",
       "      <td>4222</td>\n",
       "      <td>0.0</td>\n",
       "      <td>1.0</td>\n",
       "      <td>0.0</td>\n",
       "      <td>1.0</td>\n",
       "      <td>2018-10-09 00:00:00-04:00</td>\n",
       "      <td>2018-11-27 00:00:00-05:00</td>\n",
       "    </tr>\n",
       "    <tr>\n",
       "      <th>2</th>\n",
       "      <td>342</td>\n",
       "      <td>4011</td>\n",
       "      <td>0.0</td>\n",
       "      <td>1.0</td>\n",
       "      <td>0.0</td>\n",
       "      <td>1.0</td>\n",
       "      <td>2018-10-10 00:00:00-04:00</td>\n",
       "      <td>2018-11-21 00:00:00-05:00</td>\n",
       "    </tr>\n",
       "    <tr>\n",
       "      <th>3</th>\n",
       "      <td>586</td>\n",
       "      <td>4015</td>\n",
       "      <td>0.0</td>\n",
       "      <td>1.0</td>\n",
       "      <td>0.0</td>\n",
       "      <td>1.0</td>\n",
       "      <td>2018-10-11 00:00:00-04:00</td>\n",
       "      <td>2018-11-22 00:00:00-05:00</td>\n",
       "    </tr>\n",
       "    <tr>\n",
       "      <th>4</th>\n",
       "      <td>790</td>\n",
       "      <td>4019</td>\n",
       "      <td>0.0</td>\n",
       "      <td>1.0</td>\n",
       "      <td>0.0</td>\n",
       "      <td>1.0</td>\n",
       "      <td>2018-10-12 00:00:00-04:00</td>\n",
       "      <td>2018-11-23 00:00:00-05:00</td>\n",
       "    </tr>\n",
       "    <tr>\n",
       "      <th>5</th>\n",
       "      <td>1058</td>\n",
       "      <td>3537</td>\n",
       "      <td>0.0</td>\n",
       "      <td>1.0</td>\n",
       "      <td>0.0</td>\n",
       "      <td>1.0</td>\n",
       "      <td>2018-10-13 00:00:00-04:00</td>\n",
       "      <td>2018-11-10 00:00:00-05:00</td>\n",
       "    </tr>\n",
       "    <tr>\n",
       "      <th>6</th>\n",
       "      <td>1400</td>\n",
       "      <td>4021</td>\n",
       "      <td>0.0</td>\n",
       "      <td>1.0</td>\n",
       "      <td>0.0</td>\n",
       "      <td>1.0</td>\n",
       "      <td>2018-10-14 00:00:00-04:00</td>\n",
       "      <td>2018-11-25 00:00:00-05:00</td>\n",
       "    </tr>\n",
       "  </tbody>\n",
       "</table>\n",
       "</div>"
      ],
      "text/plain": [
       "              #       Light      Occupancy                           date  \\\n",
       "            min   max   min  max       min  max                       min   \n",
       "dayofweek                                                                   \n",
       "0             1  4104   0.0  1.0       0.0  1.0 2018-10-08 00:00:00-04:00   \n",
       "1           132  4222   0.0  1.0       0.0  1.0 2018-10-09 00:00:00-04:00   \n",
       "2           342  4011   0.0  1.0       0.0  1.0 2018-10-10 00:00:00-04:00   \n",
       "3           586  4015   0.0  1.0       0.0  1.0 2018-10-11 00:00:00-04:00   \n",
       "4           790  4019   0.0  1.0       0.0  1.0 2018-10-12 00:00:00-04:00   \n",
       "5          1058  3537   0.0  1.0       0.0  1.0 2018-10-13 00:00:00-04:00   \n",
       "6          1400  4021   0.0  1.0       0.0  1.0 2018-10-14 00:00:00-04:00   \n",
       "\n",
       "                                     \n",
       "                                max  \n",
       "dayofweek                            \n",
       "0         2018-11-26 00:00:00-05:00  \n",
       "1         2018-11-27 00:00:00-05:00  \n",
       "2         2018-11-21 00:00:00-05:00  \n",
       "3         2018-11-22 00:00:00-05:00  \n",
       "4         2018-11-23 00:00:00-05:00  \n",
       "5         2018-11-10 00:00:00-05:00  \n",
       "6         2018-11-25 00:00:00-05:00  "
      ]
     },
     "execution_count": 60,
     "metadata": {},
     "output_type": "execute_result"
    }
   ],
   "source": [
    "ac206.groupby('dayofweek').agg(['min','max'])"
   ]
  },
  {
   "cell_type": "markdown",
   "metadata": {},
   "source": [
    "## Plot ALL the data\n",
    "(to make sure everything makes sense)"
   ]
  },
  {
   "cell_type": "markdown",
   "metadata": {},
   "source": [
    "### Every day"
   ]
  },
  {
   "cell_type": "code",
   "execution_count": 66,
   "metadata": {},
   "outputs": [
    {
     "data": {
      "text/html": [
       "<div>\n",
       "<style scoped>\n",
       "    .dataframe tbody tr th:only-of-type {\n",
       "        vertical-align: middle;\n",
       "    }\n",
       "\n",
       "    .dataframe tbody tr th {\n",
       "        vertical-align: top;\n",
       "    }\n",
       "\n",
       "    .dataframe thead th {\n",
       "        text-align: right;\n",
       "    }\n",
       "</style>\n",
       "<table border=\"1\" class=\"dataframe\">\n",
       "  <thead>\n",
       "    <tr style=\"text-align: right;\">\n",
       "      <th></th>\n",
       "      <th>#</th>\n",
       "      <th>Light</th>\n",
       "      <th>Occupancy</th>\n",
       "      <th>Started</th>\n",
       "      <th>Internal Calibration</th>\n",
       "      <th>Button Up</th>\n",
       "      <th>Host Connected</th>\n",
       "      <th>Stopped</th>\n",
       "      <th>End Of File</th>\n",
       "      <th>dayofweek</th>\n",
       "      <th>date</th>\n",
       "      <th>delta</th>\n",
       "    </tr>\n",
       "  </thead>\n",
       "  <tbody>\n",
       "    <tr>\n",
       "      <th>2018-10-08 13:57:20-04:00</th>\n",
       "      <td>1</td>\n",
       "      <td>1.0</td>\n",
       "      <td>0.0</td>\n",
       "      <td>Logged</td>\n",
       "      <td>Logged</td>\n",
       "      <td>NaN</td>\n",
       "      <td>NaN</td>\n",
       "      <td>NaN</td>\n",
       "      <td>NaN</td>\n",
       "      <td>0</td>\n",
       "      <td>2018-10-08 00:00:00-04:00</td>\n",
       "      <td>NaT</td>\n",
       "    </tr>\n",
       "    <tr>\n",
       "      <th>2018-10-08 13:57:22-04:00</th>\n",
       "      <td>3</td>\n",
       "      <td>NaN</td>\n",
       "      <td>1.0</td>\n",
       "      <td>NaN</td>\n",
       "      <td>NaN</td>\n",
       "      <td>NaN</td>\n",
       "      <td>NaN</td>\n",
       "      <td>NaN</td>\n",
       "      <td>NaN</td>\n",
       "      <td>0</td>\n",
       "      <td>2018-10-08 00:00:00-04:00</td>\n",
       "      <td>00:00:02</td>\n",
       "    </tr>\n",
       "    <tr>\n",
       "      <th>2018-10-08 13:59:33-04:00</th>\n",
       "      <td>8</td>\n",
       "      <td>NaN</td>\n",
       "      <td>0.0</td>\n",
       "      <td>NaN</td>\n",
       "      <td>NaN</td>\n",
       "      <td>NaN</td>\n",
       "      <td>NaN</td>\n",
       "      <td>NaN</td>\n",
       "      <td>NaN</td>\n",
       "      <td>0</td>\n",
       "      <td>2018-10-08 00:00:00-04:00</td>\n",
       "      <td>00:02:11</td>\n",
       "    </tr>\n",
       "  </tbody>\n",
       "</table>\n",
       "</div>"
      ],
      "text/plain": [
       "                           #  Light  Occupancy Started Internal Calibration  \\\n",
       "2018-10-08 13:57:20-04:00  1    1.0        0.0  Logged               Logged   \n",
       "2018-10-08 13:57:22-04:00  3    NaN        1.0     NaN                  NaN   \n",
       "2018-10-08 13:59:33-04:00  8    NaN        0.0     NaN                  NaN   \n",
       "\n",
       "                          Button Up Host Connected Stopped End Of File  \\\n",
       "2018-10-08 13:57:20-04:00       NaN            NaN     NaN         NaN   \n",
       "2018-10-08 13:57:22-04:00       NaN            NaN     NaN         NaN   \n",
       "2018-10-08 13:59:33-04:00       NaN            NaN     NaN         NaN   \n",
       "\n",
       "                           dayofweek                      date    delta  \n",
       "2018-10-08 13:57:20-04:00          0 2018-10-08 00:00:00-04:00      NaT  \n",
       "2018-10-08 13:57:22-04:00          0 2018-10-08 00:00:00-04:00 00:00:02  \n",
       "2018-10-08 13:59:33-04:00          0 2018-10-08 00:00:00-04:00 00:02:11  "
      ]
     },
     "execution_count": 66,
     "metadata": {},
     "output_type": "execute_result"
    }
   ],
   "source": [
    "occupancy[:3]"
   ]
  },
  {
   "cell_type": "code",
   "execution_count": 68,
   "metadata": {},
   "outputs": [
    {
     "data": {
      "text/plain": [
       "date\n",
       "2018-10-08 00:00:00-04:00   0 days 06:57:03\n",
       "2018-10-09 00:00:00-04:00   0 days 23:53:16\n",
       "2018-10-10 00:00:00-04:00   1 days 00:04:07\n",
       "2018-10-11 00:00:00-04:00   1 days 01:58:32\n",
       "2018-10-12 00:00:00-04:00   0 days 22:29:17\n",
       "2018-10-13 00:00:00-04:00   1 days 02:29:31\n",
       "2018-10-14 00:00:00-04:00   0 days 23:55:44\n",
       "2018-10-15 00:00:00-04:00   0 days 19:13:26\n",
       "2018-10-16 00:00:00-04:00   0 days 20:06:49\n",
       "2018-10-17 00:00:00-04:00   1 days 00:49:08\n",
       "2018-10-18 00:00:00-04:00   1 days 02:21:22\n",
       "2018-10-19 00:00:00-04:00   0 days 22:22:57\n",
       "2018-10-20 00:00:00-04:00   1 days 00:31:28\n",
       "2018-10-21 00:00:00-04:00   1 days 00:24:46\n",
       "2018-10-22 00:00:00-04:00   1 days 02:11:09\n",
       "2018-10-23 00:00:00-04:00   1 days 00:28:42\n",
       "2018-10-24 00:00:00-04:00   1 days 00:23:42\n",
       "2018-10-25 00:00:00-04:00   0 days 21:19:03\n",
       "2018-10-26 00:00:00-04:00   1 days 04:38:03\n",
       "2018-10-27 00:00:00-04:00   0 days 17:41:49\n",
       "2018-10-28 00:00:00-04:00   1 days 00:32:34\n",
       "2018-10-29 00:00:00-04:00   1 days 03:34:23\n",
       "2018-10-30 00:00:00-04:00   0 days 23:05:47\n",
       "2018-10-31 00:00:00-04:00   1 days 03:34:17\n",
       "2018-11-01 00:00:00-04:00   0 days 16:16:41\n",
       "2018-11-02 00:00:00-04:00   1 days 00:38:40\n",
       "2018-11-03 00:00:00-04:00   1 days 06:25:59\n",
       "2018-11-04 00:00:00-04:00   0 days 21:33:47\n",
       "2018-11-05 00:00:00-05:00   0 days 20:32:05\n",
       "2018-11-06 00:00:00-05:00   1 days 04:52:21\n",
       "2018-11-07 00:00:00-05:00   1 days 01:36:23\n",
       "2018-11-08 00:00:00-05:00   0 days 22:45:22\n",
       "2018-11-09 00:00:00-05:00   0 days 22:23:09\n",
       "2018-11-10 00:00:00-05:00   0 days 16:51:47\n",
       "2018-11-11 00:00:00-05:00   1 days 01:11:28\n",
       "2018-11-12 00:00:00-05:00   1 days 05:25:21\n",
       "2018-11-13 00:00:00-05:00   1 days 00:01:10\n",
       "2018-11-14 00:00:00-05:00   0 days 23:25:30\n",
       "2018-11-15 00:00:00-05:00   0 days 21:29:40\n",
       "2018-11-16 00:00:00-05:00   1 days 00:40:59\n",
       "2018-11-19 00:00:00-05:00   2 days 23:41:55\n",
       "2018-11-20 00:00:00-05:00   0 days 23:57:52\n",
       "2018-11-21 00:00:00-05:00   0 days 18:58:12\n",
       "2018-11-22 00:00:00-05:00   0 days 19:08:53\n",
       "2018-11-23 00:00:00-05:00   1 days 07:13:47\n",
       "2018-11-25 00:00:00-05:00   1 days 18:46:43\n",
       "2018-11-26 00:00:00-05:00   1 days 10:52:06\n",
       "2018-11-27 00:00:00-05:00   1 days 00:50:56\n",
       "Name: delta, dtype: timedelta64[ns]"
      ]
     },
     "execution_count": 68,
     "metadata": {},
     "output_type": "execute_result"
    }
   ],
   "source": [
    "occupancy.groupby('date')['delta'].agg('sum')"
   ]
  },
  {
   "cell_type": "markdown",
   "metadata": {},
   "source": [
    "### All points, per week"
   ]
  },
  {
   "cell_type": "code",
   "execution_count": 108,
   "metadata": {},
   "outputs": [
    {
     "data": {
      "text/plain": [
       "array([False, False, False, ...,  True,  True,  True])"
      ]
     },
     "execution_count": 108,
     "metadata": {},
     "output_type": "execute_result"
    }
   ],
   "source": [
    "ac206.index >= pd.to_datetime('2018-10-10').tz_localize('US/Eastern')"
   ]
  },
  {
   "cell_type": "code",
   "execution_count": null,
   "metadata": {},
   "outputs": [],
   "source": [
    "fig = plt.figure(figsize=(136,36))\n",
    "weeks = pd.date_range(start='2018-10-01', end='2018-11-27', freq='w', tz='US/Eastern')\n",
    "for i, sunday in enumerate(weeks):\n",
    "    ax = plt.subplot(len(weeks), 1, i + 1, sharex=False)\n",
    "    week_data = ac206[(ac206.index >= sunday) & (ac206.index < (sunday + pd.to_timedelta(1, 'w')))]\n",
    "    l = ~week_data['Light'].isnull()\n",
    "    o = ~week_data['Occupancy'].isnull()\n",
    "    plt.plot(\n",
    "        week_data.index[o],\n",
    "        week_data[o]['Occupancy'],\n",
    "        drawstyle='steps-post',\n",
    "        label='occupied'\n",
    "    )\n",
    "    plt.plot(\n",
    "        week_data.index[l],\n",
    "        week_data[l]['Light'],\n",
    "        drawstyle='steps-post',  # https://stackoverflow.com/questions/35579480/how-to-plot-square-function-with-matplotlib#35579598\n",
    "        linestyle=':',\n",
    "        label='light'\n",
    "    )\n",
    "    plt.title('Occupancy sensor')\n",
    "    plt.yticks([0,1],['no','yes'])\n",
    "    # plt.ylabel('Value')\n",
    "    plt.xlabel('Time')\n",
    "    plt.xticks(pd.date_range(start=sunday, end=(sunday + pd.to_timedelta(1, 'w')), freq='D'))\n",
    "    plt.legend()\n",
    "    fig.autofmt_xdate()  # https://stackoverflow.com/questions/10998621/rotate-axis-text-in-python-matplotlib#23009503\n",
    "    fig.patch.set_facecolor('white')  # needed for dark theme https://stackoverflow.com/questions/14088687/how-to-change-plot-background-color\n",
    "    break\n"
   ]
  },
  {
   "cell_type": "code",
   "execution_count": 214,
   "metadata": {},
   "outputs": [
    {
     "data": {
      "image/png": "[encoded data removed]",
      "text/plain": [
       "<Figure size 2592x288 with 1 Axes>"
      ]
     },
     "metadata": {},
     "output_type": "display_data"
    }
   ],
   "source": [
    "import pytz\n",
    "\n",
    "def plot_range(d, tstart, tend):\n",
    "    fig = plt.figure()\n",
    "    data = d[(d.index >= tstart) & (d.index < tend)]\n",
    "    l = ~data['Light'].isnull()\n",
    "    o = ~data['Occupancy'].isnull()\n",
    "    plt.plot(\n",
    "        data.index[o],\n",
    "        data[o]['Occupancy'],\n",
    "        drawstyle='steps-post',\n",
    "        label='occupied'\n",
    "    )\n",
    "    plt.plot(\n",
    "        data.index[l],\n",
    "        data[l]['Light'],\n",
    "        drawstyle='steps-post',  # https://stackoverflow.com/questions/35579480/how-to-plot-square-function-with-matplotlib#35579598\n",
    "        linestyle=':',\n",
    "        label='light'\n",
    "    )\n",
    "    ax = plt.gca()\n",
    "    plt.title('Occupancy sensor')\n",
    "    plt.yticks([0,1],['no','yes'])\n",
    "    # plt.ylabel('Value')\n",
    "    plt.xlabel('Time')\n",
    "    ax.set_xticks(pd.date_range(start=tstart, end=tend, freq='D'))\n",
    "#     ax.set_xticks(pd.date_range(start=tstart, end=tend, freq='h'), minor=True)\n",
    "#     ax.xaxis.set_major_locator(mdates.DayLocator())\n",
    "    ax.xaxis.set_major_formatter(mdates.DateFormatter('%m-%d', tz=pytz.timezone('US/Eastern')))\n",
    "    ax.xaxis.set_minor_locator(mdates.HourLocator(interval=3))\n",
    "    ax.xaxis.set_minor_formatter(mdates.DateFormatter('%I%p', tz=pytz.timezone('US/Eastern')))\n",
    "#     plt.xticks(rotation=45)\n",
    "    ax.xaxis.set_tick_params(which='major', pad=30)\n",
    "    plt.setp(ax.xaxis.get_minorticklabels(), rotation=45)  # https://stackoverflow.com/questions/41390487/rotate-minor-ticks-in-matplotlib\n",
    "    plt.legend()\n",
    "#     fig.autofmt_xdate()  # https://stackoverflow.com/questions/10998621/rotate-axis-text-in-python-matplotlib#23009503\n",
    "    fig.patch.set_facecolor('white')  # needed for dark theme https://stackoverflow.com/questions/14088687/how-to-change-plot-background-color\n",
    "    return fig\n",
    "\n",
    "fig = plot_range(ac206, pd.to_datetime('2018-10-07').tz_localize('US/Eastern'), pd.to_datetime('2018-10-13').tz_localize('US/Eastern'))\n",
    "fig.set_size_inches(36,4)"
   ]
  },
  {
   "cell_type": "code",
   "execution_count": 215,
   "metadata": {},
   "outputs": [],
   "source": [
    "fig.savefig('neat.pdf')"
   ]
  },
  {
   "cell_type": "code",
   "execution_count": 90,
   "metadata": {},
   "outputs": [
    {
     "data": {
      "text/plain": [
       "DatetimeIndex(['2018-10-08 13:57:20-04:00', '2018-10-08 13:57:21-04:00',\n",
       "               '2018-10-08 13:57:22-04:00', '2018-10-08 13:57:26-04:00',\n",
       "               '2018-10-08 13:57:30-04:00', '2018-10-08 13:57:34-04:00',\n",
       "               '2018-10-08 13:57:38-04:00', '2018-10-08 13:59:33-04:00',\n",
       "               '2018-10-08 14:00:02-04:00', '2018-10-08 14:01:46-04:00',\n",
       "               ...\n",
       "               '2018-11-27 19:17:43-05:00', '2018-11-27 19:43:06-05:00',\n",
       "               '2018-11-27 19:43:41-05:00', '2018-11-27 19:43:42-05:00',\n",
       "               '2018-11-27 19:43:58-05:00', '2018-11-27 19:43:59-05:00',\n",
       "               '2018-11-27 19:44:00-05:00', '2018-11-27 19:44:04-05:00',\n",
       "               '2018-11-27 19:44:06-05:00', '2018-11-27 19:45:01-05:00'],\n",
       "              dtype='datetime64[ns, US/Eastern]', length=4222, freq=None)"
      ]
     },
     "execution_count": 90,
     "metadata": {},
     "output_type": "execute_result"
    }
   ],
   "source": [
    "ac206.index"
   ]
  },
  {
   "cell_type": "code",
   "execution_count": 103,
   "metadata": {},
   "outputs": [
    {
     "data": {
      "text/plain": [
       "Timestamp('2018-10-01 00:00:00-0400', tz='US/Eastern')"
      ]
     },
     "execution_count": 103,
     "metadata": {},
     "output_type": "execute_result"
    }
   ],
   "source": [
    "pd.to_datetime('2018-10-01').tz_localize('US/Eastern')"
   ]
  },
  {
   "cell_type": "code",
   "execution_count": null,
   "metadata": {},
   "outputs": [],
   "source": []
  }
 ],
 "metadata": {
  "kernelspec": {
   "display_name": "Python 3",
   "language": "python",
   "name": "python3"
  },
  "language_info": {
   "codemirror_mode": {
    "name": "ipython",
    "version": 3
   },
   "file_extension": ".py",
   "mimetype": "text/x-python",
   "name": "python",
   "nbconvert_exporter": "python",
   "pygments_lexer": "ipython3",
   "version": "3.7.1"
  }
 },
 "nbformat": 4,
 "nbformat_minor": 2
}
